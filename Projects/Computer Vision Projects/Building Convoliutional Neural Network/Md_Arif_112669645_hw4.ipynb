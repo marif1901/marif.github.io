{
  "nbformat": 4,
  "nbformat_minor": 0,
  "metadata": {
    "anaconda-cloud": {},
    "kernelspec": {
      "name": "python3",
      "display_name": "Python 3"
    },
    "language_info": {
      "codemirror_mode": {
        "name": "ipython",
        "version": 3
      },
      "file_extension": ".py",
      "mimetype": "text/x-python",
      "name": "python",
      "nbconvert_exporter": "python",
      "pygments_lexer": "ipython3",
      "version": "3.7.3"
    },
    "colab": {
      "name": "Md_Arif_112669645_hw4.ipynb",
      "provenance": [],
      "collapsed_sections": []
    },
    "accelerator": "GPU"
  },
  "cells": [
    {
      "cell_type": "markdown",
      "metadata": {
        "id": "XSfnuObtYYMH",
        "colab_type": "text"
      },
      "source": [
        "# CSE527 Homework 4\n",
        "**Due date: 23:59 on Nov. 5, 2019 (Thuesday)**\n",
        "\n",
        "In this semester, we will use Google Colab for the assignments, which allows us to utilize resources that some of us might not have in their local machines such as GPUs. You will need to use your Stony Brook (*.stonybrook.edu) account for coding and Google Drive to save your results.\n",
        "\n",
        "## Google Colab Tutorial\n",
        "---\n",
        "Go to https://colab.research.google.com/notebooks/, you will see a tutorial named \"Welcome to Colaboratory\" file, where you can learn the basics of using google colab.\n",
        "\n",
        "Settings used for assignments: ***Edit -> Notebook Settings -> Runtime Type (Python 3)***.\n",
        "\n",
        "\n",
        "## Description\n",
        "---\n",
        "This project is an introduction to deep learning tools for computer vision. You will design and train deep convolutional networks for scene recognition using [PyTorch](http://pytorch.org). You can visualize the\n",
        "structure of the network with [mNeuron] (http://vision03.csail.mit.edu/cnn_art/index.html)\n",
        "\n",
        "Remember Homework 3: Scene recognition with bag of words. You worked hard to design a bag of features representations that achieved 60% to 70% accuracy (most likely) on 16-way scene classification. We're going to attack the same task with deep learning and get higher accuracy. Training from scratch won't work quite as well as homework 3 due to the insufficient amount of data, fine-tuning an existing network will work much better than homework 3.\n",
        "\n",
        "In Problem 1 of the project you will train a deep convolutional network from scratch to recognize scenes. The starter codes gives you methods to load data and display them. You will need to define a simple network architecture and add jittering, normalization, and regularization to increase recognition accuracy to 50, 60, or perhaps 70%. Unfortunately, we only have 2,400 training examples so it doesn't seem possible to train a network from scratch which outperforms hand-crafted features\n",
        "\n",
        "For Problem 2 you will instead fine-tune a pre-trained deep network to achieve about 85% accuracy on the task. We will use the pretrained AlexNet network which was not trained to recognize scenes at all. \n",
        "\n",
        "These two approaches represent the most common approaches to recognition problems in computer vision today -- train a deep network from scratch if you have enough data (it's not always obvious whether or not you do), and if you cannot then instead fine-tune a pre-trained network.\n",
        "\n",
        "There are 2 problems in this homework with a total of 110 points including 10 bonus points. Be sure to read **Submission Guidelines** below. They are important. For the problems requiring text descriptions, you might want to add a markdown block for that.\n",
        "\n",
        "## Dataset\n",
        "---\n",
        "Save the [dataset(click me)](https://drive.google.com/open?id=1NWC3TMsXSWN2TeoYMCjhf2N1b-WRDh-M) into your working folder in your Google Drive for this homework. <br>\n",
        "Under your root folder, there should be a folder named \"data\" (i.e. XXX/Surname_Givenname_SBUID/data) containing the images.\n",
        "**Do not upload** the data subfolder before submitting on blackboard due to size limit. There should be only one .ipynb file under your root folder Surname_Givenname_SBUID.\n",
        "\n",
        "## Some Tutorials (PyTorch)\n",
        "---\n",
        "- You will be using PyTorch for deep learning toolbox (follow the [link](http://pytorch.org) for installation).\n",
        "- For PyTorch beginners, please read this [tutorial](http://pytorch.org/tutorials/beginner/deep_learning_60min_blitz.html) before doing your homework.\n",
        "- Feel free to study more tutorials at http://pytorch.org/tutorials/.\n",
        "- Find cool visualization here at http://playground.tensorflow.org.\n",
        "\n",
        "\n",
        "## Starter Code\n",
        "---\n",
        "In the starter code, you are provided with a function that loads data into minibatches for training and testing in PyTorch."
      ]
    },
    {
      "cell_type": "code",
      "metadata": {
        "id": "0UA6WFgcYYMI",
        "colab_type": "code",
        "colab": {}
      },
      "source": [
        "# import packages here\n",
        "import cv2\n",
        "import numpy as np\n",
        "import matplotlib.pyplot as plt\n",
        "import glob\n",
        "import random \n",
        "import time\n",
        "\n",
        "import torch\n",
        "import torchvision\n",
        "import torchvision.transforms as transforms\n",
        "\n",
        "from torch.autograd import Variable\n",
        "import torch.nn as nn\n",
        "import torch.nn.functional as F\n",
        "\n",
        "import pickle\n",
        "import torch.optim as optim\n"
      ],
      "execution_count": 0,
      "outputs": []
    },
    {
      "cell_type": "code",
      "metadata": {
        "id": "L7T72O-1ks-a",
        "colab_type": "code",
        "outputId": "52b7ea47-a330-4b3a-f661-077ed42d56fc",
        "colab": {
          "base_uri": "https://localhost:8080/",
          "height": 34
        }
      },
      "source": [
        "# Mount your google drive where you've saved your assignment folder\n",
        "from google.colab import drive\n",
        "drive.mount('/content/gdrive')"
      ],
      "execution_count": 33,
      "outputs": [
        {
          "output_type": "stream",
          "text": [
            "Drive already mounted at /content/gdrive; to attempt to forcibly remount, call drive.mount(\"/content/gdrive\", force_remount=True).\n"
          ],
          "name": "stdout"
        }
      ]
    },
    {
      "cell_type": "code",
      "metadata": {
        "id": "xIT3WIuykrg0",
        "colab_type": "code",
        "outputId": "eac2f68b-4f4b-406b-d123-81b3373039fc",
        "colab": {
          "base_uri": "https://localhost:8080/",
          "height": 34
        }
      },
      "source": [
        "# Set your working directory (in your google drive)\n",
        "# Note that 'gdrive/My Drive/Y2019Fall/CSE-527-Intro-To-Computer-Vision/hw4' is just an example, \n",
        "#   change it to your specific homework directory.\n",
        "cd '/content/gdrive/My Drive/ComputerVision_Fall2019/Md_Arif_112669645_hw4/'"
      ],
      "execution_count": 34,
      "outputs": [
        {
          "output_type": "stream",
          "text": [
            "/content/gdrive/My Drive/ComputerVision_Fall2019/Md_Arif_112669645_hw4\n"
          ],
          "name": "stdout"
        }
      ]
    },
    {
      "cell_type": "code",
      "metadata": {
        "id": "R6y_-y8nyfuS",
        "colab_type": "code",
        "outputId": "ebedf60e-cbde-4717-b693-0b448e3b92b2",
        "colab": {
          "base_uri": "https://localhost:8080/",
          "height": 68
        }
      },
      "source": [
        "print(torch.__version__)\n",
        "print(torch.cuda.is_available())\n",
        "print(torch.version.cuda)"
      ],
      "execution_count": 35,
      "outputs": [
        {
          "output_type": "stream",
          "text": [
            "1.3.0+cu100\n",
            "True\n",
            "10.0.130\n"
          ],
          "name": "stdout"
        }
      ]
    },
    {
      "cell_type": "code",
      "metadata": {
        "id": "0NxnBcUqk_9B",
        "colab_type": "code",
        "outputId": "adf1f2fa-6f00-471e-c827-0dee06634eb6",
        "colab": {
          "base_uri": "https://localhost:8080/",
          "height": 54
        }
      },
      "source": [
        "# ==========================================\n",
        "#    Load Training Data and Testing Data\n",
        "# ==========================================\n",
        "class_names = [name[13:] for name in glob.glob('./data/train/*')]\n",
        "class_names = dict(zip(range(len(class_names)), class_names))\n",
        "print(\"class_names: %s \" % class_names)\n",
        "n_train_samples = 150\n",
        "n_test_samples = 50\n",
        "\n",
        "\n",
        "def img_norm(img):\n",
        "  # Write your code here\n",
        "  # normalize img pixels to [-1, 1]\n",
        "  norm_img= np.float32(cv2.normalize(img,None,0,1,cv2.NORM_MINMAX))\n",
        "  norm_img-=0.5\n",
        "  return norm_img*2\n",
        "\n",
        "def load_dataset(path, img_size, num_per_class=-1, batch_num=1, shuffle=False, augment=False, is_color=False,\n",
        "                rotate_90=False, zero_centered=False):\n",
        "    \n",
        "    data = []\n",
        "    labels = []\n",
        "    \n",
        "    if is_color:\n",
        "        channel_num = 3\n",
        "    else:\n",
        "        channel_num = 1\n",
        "        \n",
        "    # read images and resizing\n",
        "    for id, class_name in class_names.items():\n",
        "        print(\"Loading images from class: %s\" % id)\n",
        "        img_path_class = glob.glob(path + class_name + '/*.jpg')\n",
        "        if num_per_class > 0:\n",
        "            img_path_class = img_path_class[:num_per_class]\n",
        "        labels.extend([id]*len(img_path_class))\n",
        "        for filename in img_path_class:\n",
        "            if is_color:\n",
        "                img = cv2.imread(filename)\n",
        "            else:\n",
        "                img = cv2.imread(filename, 0)\n",
        "            \n",
        "            # resize the image\n",
        "            img = cv2.resize(img, img_size, cv2.INTER_LINEAR)\n",
        "            \n",
        "            if is_color:\n",
        "                img = np.transpose(img, [2, 0, 1])\n",
        "            \n",
        "            # norm pixel values to [-1, 1]\n",
        "            data.append(img_norm(img))\n",
        "            \n",
        "    # Write your Data Augmentation code here\n",
        "    # mirroring\n",
        "    \n",
        "    if augment:\n",
        "      for id, class_name in class_names.items():\n",
        "        print(\"Loading images from class: %s\" % id)\n",
        "        img_path_class = glob.glob(path + class_name + '/*.jpg')\n",
        "        if num_per_class > 0:\n",
        "            img_path_class = img_path_class[:num_per_class]\n",
        "        labels.extend([id]*len(img_path_class))\n",
        "        for filename in img_path_class:\n",
        "            if is_color:\n",
        "                img = cv2.imread(filename)\n",
        "                img = img[:, ::-1] ## Taking Mirror Image \n",
        "            else:\n",
        "                img = cv2.imread(filename, 0)\n",
        "                img = img[:, ::-1]\n",
        "\n",
        "            # resize the image\n",
        "            img = cv2.resize(img, img_size, cv2.INTER_LINEAR)\n",
        "            \n",
        "            if is_color:\n",
        "                img = np.transpose(img, [2, 0, 1])\n",
        "            \n",
        "            # norm pixel values to [-1, 1]\n",
        "            data.append(img_norm(img))\n",
        "    if rotate_90:\n",
        "        img_rotate_clock = [np.rot90(img, axes=(-2,-1)) for img in data]\n",
        "        data.extend(img_rotate_clock)\n",
        "        labels.extend(labels)\n",
        "        \n",
        "    # randomly permute (this step is important for training)\n",
        "    if shuffle:\n",
        "        bundle = list(zip(data, labels))\n",
        "        random.shuffle(bundle)\n",
        "        data, labels = zip(*bundle)\n",
        "    \n",
        "    # divide data into minibatches of TorchTensors\n",
        "    if batch_num > 1:\n",
        "        batch_data = []\n",
        "        batch_labels = []\n",
        "        \n",
        "        print(len(data))\n",
        "        print(batch_num)\n",
        "        \n",
        "        for i in range(int(len(data) / batch_num)):\n",
        "            minibatch_d = data[i*batch_num: (i+1)*batch_num]\n",
        "            minibatch_d = np.reshape(minibatch_d, (batch_num, channel_num, img_size[0], img_size[1]))\n",
        "            batch_data.append(torch.from_numpy(minibatch_d))\n",
        "\n",
        "            minibatch_l = labels[i*batch_num: (i+1)*batch_num]\n",
        "            batch_labels.append(torch.LongTensor(minibatch_l))\n",
        "        data, labels = batch_data, batch_labels \n",
        "    \n",
        "    return zip(batch_data, batch_labels)"
      ],
      "execution_count": 59,
      "outputs": [
        {
          "output_type": "stream",
          "text": [
            "class_names: {0: 'TallBuilding', 1: 'InsideCity', 2: 'Mountain', 3: 'LivingRoom', 4: 'Industrial', 5: 'Store', 6: 'OpenCountry', 7: 'Suburb', 8: 'Street', 9: 'Kitchen', 10: 'Forest', 11: 'Coast', 12: 'Highway', 13: 'Office', 14: 'Flower', 15: 'Bedroom'} \n"
          ],
          "name": "stdout"
        }
      ]
    },
    {
      "cell_type": "code",
      "metadata": {
        "id": "wHI2VYbDloje",
        "colab_type": "code",
        "outputId": "3289686b-d696-4386-be69-c56be7fc6ac5",
        "colab": {
          "base_uri": "https://localhost:8080/",
          "height": 952
        }
      },
      "source": [
        "# load data into size (64, 64)\n",
        "\n",
        "start_time = time.time()\n",
        "img_size = (64, 64)\n",
        "batch_num = 50 # training sample number per batch\n",
        "\n",
        "# load training dataset\n",
        "trainloader_small = list(load_dataset('./data/train/', img_size, batch_num=batch_num, shuffle=True, \n",
        "                                      augment=True, zero_centered=True))\n",
        "train_num = len(trainloader_small)\n",
        "print(\"Finish loading %d minibatches(=%d) of training samples.\" % (train_num, batch_num))\n",
        "\n",
        "# load testing dataset\n",
        "testloader_small = list(load_dataset('./data/test/', img_size, num_per_class=50, batch_num=batch_num))\n",
        "test_num = len(testloader_small)\n",
        "print(\"Finish loading %d minibatches(=%d) of testing samples.\" % (test_num, batch_num))\n",
        "\n",
        "print('\\033[1m' + 'Time Taken to load the Training and Test Data Set: ' + '--- %s minutes ---' % round((time.time() - start_time)/60,2))\n"
      ],
      "execution_count": 60,
      "outputs": [
        {
          "output_type": "stream",
          "text": [
            "Loading images from class: 0\n",
            "Loading images from class: 1\n",
            "Loading images from class: 2\n",
            "Loading images from class: 3\n",
            "Loading images from class: 4\n",
            "Loading images from class: 5\n",
            "Loading images from class: 6\n",
            "Loading images from class: 7\n",
            "Loading images from class: 8\n",
            "Loading images from class: 9\n",
            "Loading images from class: 10\n",
            "Loading images from class: 11\n",
            "Loading images from class: 12\n",
            "Loading images from class: 13\n",
            "Loading images from class: 14\n",
            "Loading images from class: 15\n",
            "Loading images from class: 0\n",
            "Loading images from class: 1\n",
            "Loading images from class: 2\n",
            "Loading images from class: 3\n",
            "Loading images from class: 4\n",
            "Loading images from class: 5\n",
            "Loading images from class: 6\n",
            "Loading images from class: 7\n",
            "Loading images from class: 8\n",
            "Loading images from class: 9\n",
            "Loading images from class: 10\n",
            "Loading images from class: 11\n",
            "Loading images from class: 12\n",
            "Loading images from class: 13\n",
            "Loading images from class: 14\n",
            "Loading images from class: 15\n",
            "4800\n",
            "50\n",
            "Finish loading 96 minibatches(=50) of training samples.\n",
            "Loading images from class: 0\n",
            "Loading images from class: 1\n",
            "Loading images from class: 2\n",
            "Loading images from class: 3\n",
            "Loading images from class: 4\n",
            "Loading images from class: 5\n",
            "Loading images from class: 6\n",
            "Loading images from class: 7\n",
            "Loading images from class: 8\n",
            "Loading images from class: 9\n",
            "Loading images from class: 10\n",
            "Loading images from class: 11\n",
            "Loading images from class: 12\n",
            "Loading images from class: 13\n",
            "Loading images from class: 14\n",
            "Loading images from class: 15\n",
            "400\n",
            "50\n",
            "Finish loading 8 minibatches(=50) of testing samples.\n",
            "\u001b[1mTime Taken to load the Training and Test Data Set: --- 2.86 minutes ---\n"
          ],
          "name": "stdout"
        }
      ]
    },
    {
      "cell_type": "code",
      "metadata": {
        "id": "krCXjDOzlq0f",
        "colab_type": "code",
        "outputId": "48d865ba-ce2d-4ec2-bbb7-cf8cd10aa46d",
        "colab": {
          "base_uri": "https://localhost:8080/",
          "height": 285
        }
      },
      "source": [
        "# show some images\n",
        "def imshow(img):\n",
        "    img = img / 2 + 0.5     # unnormalize\n",
        "    npimg = img.numpy()\n",
        "    if len(npimg.shape) > 2:\n",
        "        npimg = np.transpose(img, [1, 2, 0])\n",
        "    plt.figure\n",
        "    plt.imshow(npimg, 'gray')\n",
        "    plt.show()\n",
        "img, label = trainloader_small[0][0][11][0], trainloader_small[0][1][11]\n",
        "label = int(np.array(label))\n",
        "print(class_names[label])\n",
        "imshow(img)"
      ],
      "execution_count": 0,
      "outputs": [
        {
          "output_type": "stream",
          "text": [
            "Flower\n"
          ],
          "name": "stdout"
        },
        {
          "output_type": "display_data",
          "data": {
            "image/png": "[encoded data removed]",
            "text/plain": [
              "<Figure size 432x288 with 1 Axes>"
            ]
          },
          "metadata": {
            "tags": []
          }
        }
      ]
    },
    {
      "cell_type": "code",
      "metadata": {
        "id": "wFEHwym6U2c8",
        "colab_type": "code",
        "colab": {}
      },
      "source": [
        "# # As loading the data from the source for the first time is time consuming, so you can pkl or save the data in a compact way such that subsequent data loading is faster\n",
        "# # Save intermediate image data into disk\n",
        "file = open('trainloader_small.pkl','wb')\n",
        "pickle.dump(trainloader_small, file)\n",
        "\n",
        "file = open('testloader_small.pkl','wb')\n",
        "pickle.dump(testloader_small, file)\n",
        "file.close()\n"
      ],
      "execution_count": 0,
      "outputs": []
    },
    {
      "cell_type": "code",
      "metadata": {
        "id": "1buDGhR7U3ee",
        "colab_type": "code",
        "outputId": "3d4550ec-bb1e-4fb5-accb-8663fd3c997b",
        "colab": {
          "base_uri": "https://localhost:8080/",
          "height": 51
        }
      },
      "source": [
        "# Load intermediate image data from disk\n",
        "file = open('trainloader_small.pkl', 'rb')\n",
        "trainloader_small = pickle.load(file)\n",
        "file.close()\n",
        "\n",
        "file = open('testloader_small.pkl', 'rb')\n",
        "testloader_small = pickle.load(file)\n",
        "file.close()\n",
        "\n",
        "print('\\033[1m' + 'Training Samples: ' + str(len(trainloader_small)*50)) # Verify number of training samples\n",
        "print('\\033[1m' + 'Test Samples: ' +  str(len(testloader_small)*50))   # Verify number of testing samples\n"
      ],
      "execution_count": 65,
      "outputs": [
        {
          "output_type": "stream",
          "text": [
            "\u001b[1mTraining Samples: 4800\n",
            "\u001b[1mTest Samples: 400\n"
          ],
          "name": "stdout"
        }
      ]
    },
    {
      "cell_type": "code",
      "metadata": {
        "id": "SjFeKQLdalUf",
        "colab_type": "code",
        "outputId": "75be3c45-070b-4983-b92f-64c77b3d3954",
        "colab": {
          "base_uri": "https://localhost:8080/",
          "height": 51
        }
      },
      "source": [
        "print('\\033[1m' + 'Total Training Batches: ' + str(len(trainloader_small))) \n",
        "print('\\033[1m' + 'Total Test Batches: ' + str(len(testloader_small))) "
      ],
      "execution_count": 38,
      "outputs": [
        {
          "output_type": "stream",
          "text": [
            "\u001b[1mTotal Training Batches: 96\n",
            "\u001b[1mTotal Test Batches: 8\n"
          ],
          "name": "stdout"
        }
      ]
    },
    {
      "cell_type": "code",
      "metadata": {
        "id": "miSOUxV2g0mh",
        "colab_type": "code",
        "outputId": "00737489-8df1-4e0e-ac3c-0b16f27e9364",
        "colab": {
          "base_uri": "https://localhost:8080/",
          "height": 353
        }
      },
      "source": [
        "## Basic Data Sanity Checks\n",
        "sample = next(iter(trainloader_small))\n",
        "print(len(sample))\n",
        "print(type(sample))\n",
        "smpl_img, smpl_lbl= sample\n",
        "\n",
        "i=10\n",
        "print(smpl_img[i].shape)\n",
        "print(smpl_lbl[i].shape)\n",
        "\n",
        "plt.imshow(smpl_img[0].squeeze(),cmap= 'gray')\n",
        "print('label',smpl_lbl[i] )"
      ],
      "execution_count": 0,
      "outputs": [
        {
          "output_type": "stream",
          "text": [
            "2\n",
            "<class 'tuple'>\n",
            "torch.Size([1, 64, 64])\n",
            "torch.Size([])\n",
            "label tensor(0)\n"
          ],
          "name": "stdout"
        },
        {
          "output_type": "display_data",
          "data": {
            "image/png": "[encoded data removed]",
            "text/plain": [
              "<Figure size 432x288 with 1 Axes>"
            ]
          },
          "metadata": {
            "tags": []
          }
        }
      ]
    },
    {
      "cell_type": "markdown",
      "metadata": {
        "id": "JGA-K6QzYYMR",
        "colab_type": "text"
      },
      "source": [
        "## Problem 1: Training a Network From Scratch\n",
        "{Part 1: 35 points} Gone are the days of hand designed features. Now we have end-to-end learning in which a highly non-linear representation is learned for our data to maximize our objective (in this case, 16-way classification accuracy). Instead of 70% accuracy we can now recognize scenes with... 25% accuracy. OK, that didn't work at all. Try to boost the accuracy by doing the following:\n",
        "\n",
        "**Data Augmentation**: We don't have enough training data, let's augment the training data.\n",
        "If you left-right flip (mirror) an image of a scene, it never changes categories. A kitchen doesn't become a forest when mirrored. This isn't true in all domains — a \"d\" becomes a \"b\" when mirrored, so you can't \"jitter\" digit recognition training data in the same way. But we can synthetically increase our amount of training data by left-right mirroring training images during the learning process.\n",
        "\n",
        "After you implement mirroring, you should notice that your training error doesn't drop as quickly. That's actually a good thing, because it means the network isn't overfitting to the 2,400 original training images as much (because it sees 4,800 training images now, although they're not as good as 4,800 truly independent samples). Because the training and test errors fall more slowly, you may need more training epochs or you may try modifying the learning rate. You should see a roughly 10% increase in accuracy by adding mirroring. You are **required** to implement mirroring as data augmentation for this part.\n",
        "\n",
        "You can try more elaborate forms of jittering -- zooming in a random amount, rotating a random amount, taking a random crop, etc. These are not required, you might want to try these in the bonus part.\n",
        "\n",
        "**Data Normalization**: The images aren't zero-centered. One simple trick which can help a lot is to subtract the mean from every image. It would arguably be more proper to only compute the mean from the training images (since the test/validation images should be strictly held out) but it won't make much of a difference. After doing this you should see another 15% or so increase in accuracy. This part is **required**.\n",
        "\n",
        "**Network Regularization**: Add dropout layer. If you train your network (especially for more than the default 30 epochs) you'll see that the training error can decrease to zero while the val top1 error hovers at 40% to 50%. The network has learned weights which can perfectly recognize the training data, but those weights don't generalize to held out test data. The best regularization would be more training data but we don't have that. Instead we will use dropout regularization.\n",
        "\n",
        "What does dropout regularization do? It randomly turns off network connections at training time to fight overfitting. This prevents a unit in one layer from relying too strongly on a single unit in the previous layer. Dropout regularization can be interpreted as simultaneously training many \"thinned\" versions of your network. At test, all connections are restored which is analogous to taking an average prediction over all of the \"thinned\" networks. You can see a more complete discussion of dropout regularization in this [paper](https://www.cs.toronto.edu/~hinton/absps/JMLRdropout.pdf).\n",
        "\n",
        "The dropout layer has only one free parameter — the dropout rate — the proportion of connections that are randomly deleted. The default of 0.5 should be fine. Insert a dropout layer between your convolutional layers. In particular, insert it directly before your last convolutional layer. Your test accuracy should increase by another 10%. Your train accuracy should decrease much more slowly. That's to be expected — you're making life much harder for the training algorithm by cutting out connections randomly. \n",
        "\n",
        "If you increase the number of training epochs (and maybe decrease the learning rate) you should be able to achieve around 50% test accuracy. In this part, you are **required** to add dropout layer to your network.\n",
        "\n",
        "Please give detailed descriptions of your network layout in the following format:<br>\n",
        "Data augmentation: [descriptions]<br>\n",
        "Data normalization: [descriptions]<br>\n",
        "Layer 1: [layer_type]: [Parameters]<br>\n",
        "Layer 2: [layer_type]: [Parameters]<br>\n",
        "...<br>\n",
        "Then report the final accuracy on test set and time consumed for training and testing separately.\n",
        "\n",
        "{Part 2: 15 points} Try **three techniques** taught in the class to increase the accuracy of your model. Such as increasing training data by randomly rotating training images, adding batch normalization, different activation functions (e.g., sigmoid) and model architecture modification. Note that too many layers can do you no good due to insufficient training data. Clearly describe your method and accuracy increase/decrease for each of the three techniques."
      ]
    },
    {
      "cell_type": "code",
      "metadata": {
        "id": "clXaGdwaoIL7",
        "colab_type": "code",
        "outputId": "b3f18d37-abcd-4aea-c19c-e68f8b430a98",
        "colab": {
          "base_uri": "https://localhost:8080/",
          "height": 238
        }
      },
      "source": [
        "# ==========================================\n",
        "#       Define Network Architecture\n",
        "# ==========================================\n",
        "\n",
        "class CNN_Ver1(nn.Module):\n",
        "    def __init__(self, input_channels=1, num_classes=16):\n",
        "      super(CNN_Ver1, self).__init__()\n",
        "      self.layer1 = nn.Sequential()\n",
        "      self.layer1.add_module(\"Conv1\", nn.Conv2d(in_channels=input_channels, out_channels=16, kernel_size=5, padding=2,stride=1))\n",
        "      self.layer1.add_module(\"Relu1\", nn.ReLU())\n",
        "      self.layer1.add_module(\"MaxPool1\", nn.MaxPool2d(kernel_size=2))\n",
        "      \n",
        "      self.layer2 = nn.Sequential()\n",
        "      self.layer2.add_module(\"Conv2\", nn.Conv2d(in_channels=16, out_channels=32, kernel_size=5, padding=2, stride=1))\n",
        "      self.layer2.add_module(\"Relu2\", nn.ReLU())\n",
        "      self.layer2.add_module(\"MaxPool2\", nn.MaxPool2d(kernel_size=2))     \n",
        "      \n",
        "      self.fully_connected = nn.Linear(32 * 16 * 16, num_classes)\n",
        " \n",
        "    def forward(self, x):\n",
        "    \tx = self.layer1(x)\n",
        "    \tx = self.layer2(x)\n",
        "    \tx = x.view(x.size(0),-1)\n",
        "    \tx = self.fully_connected(x)\n",
        "    \treturn x\n",
        "\n",
        "# defining the model\n",
        "model_ver1 = CNN_Ver1()\n",
        "\n",
        "# defining the optimizer\n",
        "optimizer = optim.Adam(model_ver1.parameters(), lr=0.001)\n",
        "\n",
        "# defining the loss function\n",
        "criterion = nn.CrossEntropyLoss()\n",
        "# checking if GPU is available\n",
        "if torch.cuda.is_available():\n",
        "    model_ver1 = model_ver1.cuda()\n",
        "    criterion = criterion.cuda()\n",
        "    \n",
        "print(model_ver1)"
      ],
      "execution_count": 50,
      "outputs": [
        {
          "output_type": "stream",
          "text": [
            "CNN_Ver1(\n",
            "  (layer1): Sequential(\n",
            "    (Conv1): Conv2d(1, 16, kernel_size=(5, 5), stride=(1, 1), padding=(2, 2))\n",
            "    (Relu1): ReLU()\n",
            "    (MaxPool1): MaxPool2d(kernel_size=2, stride=2, padding=0, dilation=1, ceil_mode=False)\n",
            "  )\n",
            "  (layer2): Sequential(\n",
            "    (Conv2): Conv2d(16, 32, kernel_size=(5, 5), stride=(1, 1), padding=(2, 2))\n",
            "    (Relu2): ReLU()\n",
            "    (MaxPool2): MaxPool2d(kernel_size=2, stride=2, padding=0, dilation=1, ceil_mode=False)\n",
            "  )\n",
            "  (fully_connected): Linear(in_features=8192, out_features=16, bias=True)\n",
            ")\n"
          ],
          "name": "stdout"
        }
      ]
    },
    {
      "cell_type": "code",
      "metadata": {
        "id": "m5sadf8qoOW6",
        "colab_type": "code",
        "colab": {}
      },
      "source": [
        "# ==========================================\n",
        "#         Optimize/Train Network\n",
        "# ==========================================\n",
        "## Defining Training Framework\n",
        "\n",
        "def train_model(train_set, epoch,model_version,print_mini_batch_loss= False, print_epoch_loss= False):\n",
        "    model_version.train()\n",
        "    if print_epoch_loss:\n",
        "        print('\\033[1m' + 'Performance Statistics for Epoch Number :' + str(epoch + 1))\n",
        "    train_running_loss = 0.0\n",
        "    train_total_loss= 0.0\n",
        "    for batch_num, data in enumerate(train_set, 0):\n",
        "        # getting the inputs; data is a tensor tuple list of [inputs, labels]\n",
        "        x_train, y_train = data   \n",
        "        x_train = x_train.float() \n",
        "\n",
        "        # converting the data into GPU format\n",
        "        if torch.cuda.is_available():\n",
        "            x_train = x_train.cuda()\n",
        "            y_train = y_train.cuda()\n",
        "\n",
        "        # zero the parameter gradients\n",
        "        # prediction for training set\n",
        "        # computing the training loss\n",
        "        # computing the updated weights of all the model parameters\n",
        "\n",
        "        optimizer.zero_grad()\n",
        "        output_train = model_version(x_train)\n",
        "        loss_train = criterion(output_train, y_train)\n",
        "        loss_train.backward()\n",
        "        optimizer.step()\n",
        "\n",
        "        # print statistics\n",
        "        train_running_loss += loss_train.item()\n",
        "        train_total_loss += loss_train.item()\n",
        "\n",
        "        if batch_num % 20 == 19:    # print every 20 mini-batches\n",
        "            if print_mini_batch_loss:\n",
        "                print('\\033[1m' + '[Batch NO.: %d, Mini Batch: %5d] loss: %.3f' %\n",
        "                      (epoch + 1, batch_num + 1, train_running_loss / 20))\n",
        "            train_running_loss = 0.0\n",
        "    train_losses.append(train_total_loss/(batch_num + 1))\n",
        "    if print_epoch_loss:\n",
        "        print('\\033[1m' + '[Avg Loss for the Epoch NO.: %d, Loss: %.3f]' % (epoch + 1, train_total_loss/(batch_num + 1)))\n",
        "        print('\\n')\n"
      ],
      "execution_count": 0,
      "outputs": []
    },
    {
      "cell_type": "code",
      "metadata": {
        "id": "wDFOQGX0erjz",
        "colab_type": "code",
        "outputId": "af5a7c80-72d4-422f-d25e-4b4089d0c960",
        "colab": {
          "base_uri": "https://localhost:8080/",
          "height": 1000
        }
      },
      "source": [
        "start_time = time.time()\n",
        "# defining the number of epochs\n",
        "n_epochs = 25\n",
        "# empty list to store training losses\n",
        "train_losses = []\n",
        "# loop over the dataset multiple times\n",
        "for epoch in range(n_epochs):\n",
        "   train_model(trainloader_small,epoch,model_ver1, False, True)\n",
        "\n",
        "print('Finished Training')\n",
        "print('\\033[1m' + 'Time Taken to Train the Model: ' + '--- %s mins ---' % round((time.time() - start_time)/60,2))\n"
      ],
      "execution_count": 0,
      "outputs": [
        {
          "output_type": "stream",
          "text": [
            "\u001b[1mPerformance Statistics for Epoch Number :1\n",
            "\u001b[1m[Avg Loss for the Epoch NO.: 1, Loss: 2.361]\n",
            "\n",
            "\n",
            "\u001b[1mPerformance Statistics for Epoch Number :2\n",
            "\u001b[1m[Avg Loss for the Epoch NO.: 2, Loss: 1.632]\n",
            "\n",
            "\n",
            "\u001b[1mPerformance Statistics for Epoch Number :3\n",
            "\u001b[1m[Avg Loss for the Epoch NO.: 3, Loss: 1.301]\n",
            "\n",
            "\n",
            "\u001b[1mPerformance Statistics for Epoch Number :4\n",
            "\u001b[1m[Avg Loss for the Epoch NO.: 4, Loss: 1.092]\n",
            "\n",
            "\n",
            "\u001b[1mPerformance Statistics for Epoch Number :5\n",
            "\u001b[1m[Avg Loss for the Epoch NO.: 5, Loss: 0.935]\n",
            "\n",
            "\n",
            "\u001b[1mPerformance Statistics for Epoch Number :6\n",
            "\u001b[1m[Avg Loss for the Epoch NO.: 6, Loss: 0.802]\n",
            "\n",
            "\n",
            "\u001b[1mPerformance Statistics for Epoch Number :7\n",
            "\u001b[1m[Avg Loss for the Epoch NO.: 7, Loss: 0.665]\n",
            "\n",
            "\n",
            "\u001b[1mPerformance Statistics for Epoch Number :8\n",
            "\u001b[1m[Avg Loss for the Epoch NO.: 8, Loss: 0.544]\n",
            "\n",
            "\n",
            "\u001b[1mPerformance Statistics for Epoch Number :9\n",
            "\u001b[1m[Avg Loss for the Epoch NO.: 9, Loss: 0.443]\n",
            "\n",
            "\n",
            "\u001b[1mPerformance Statistics for Epoch Number :10\n",
            "\u001b[1m[Avg Loss for the Epoch NO.: 10, Loss: 0.410]\n",
            "\n",
            "\n",
            "\u001b[1mPerformance Statistics for Epoch Number :11\n",
            "\u001b[1m[Avg Loss for the Epoch NO.: 11, Loss: 0.388]\n",
            "\n",
            "\n",
            "\u001b[1mPerformance Statistics for Epoch Number :12\n",
            "\u001b[1m[Avg Loss for the Epoch NO.: 12, Loss: 0.310]\n",
            "\n",
            "\n",
            "\u001b[1mPerformance Statistics for Epoch Number :13\n",
            "\u001b[1m[Avg Loss for the Epoch NO.: 13, Loss: 0.228]\n",
            "\n",
            "\n",
            "\u001b[1mPerformance Statistics for Epoch Number :14\n",
            "\u001b[1m[Avg Loss for the Epoch NO.: 14, Loss: 0.172]\n",
            "\n",
            "\n",
            "\u001b[1mPerformance Statistics for Epoch Number :15\n",
            "\u001b[1m[Avg Loss for the Epoch NO.: 15, Loss: 0.125]\n",
            "\n",
            "\n",
            "\u001b[1mPerformance Statistics for Epoch Number :16\n",
            "\u001b[1m[Avg Loss for the Epoch NO.: 16, Loss: 0.122]\n",
            "\n",
            "\n",
            "\u001b[1mPerformance Statistics for Epoch Number :17\n",
            "\u001b[1m[Avg Loss for the Epoch NO.: 17, Loss: 0.092]\n",
            "\n",
            "\n",
            "\u001b[1mPerformance Statistics for Epoch Number :18\n",
            "\u001b[1m[Avg Loss for the Epoch NO.: 18, Loss: 0.066]\n",
            "\n",
            "\n",
            "\u001b[1mPerformance Statistics for Epoch Number :19\n",
            "\u001b[1m[Avg Loss for the Epoch NO.: 19, Loss: 0.051]\n",
            "\n",
            "\n",
            "\u001b[1mPerformance Statistics for Epoch Number :20\n",
            "\u001b[1m[Avg Loss for the Epoch NO.: 20, Loss: 0.034]\n",
            "\n",
            "\n",
            "\u001b[1mPerformance Statistics for Epoch Number :21\n",
            "\u001b[1m[Avg Loss for the Epoch NO.: 21, Loss: 0.019]\n",
            "\n",
            "\n",
            "\u001b[1mPerformance Statistics for Epoch Number :22\n",
            "\u001b[1m[Avg Loss for the Epoch NO.: 22, Loss: 0.013]\n",
            "\n",
            "\n",
            "\u001b[1mPerformance Statistics for Epoch Number :23\n",
            "\u001b[1m[Avg Loss for the Epoch NO.: 23, Loss: 0.009]\n",
            "\n",
            "\n",
            "\u001b[1mPerformance Statistics for Epoch Number :24\n",
            "\u001b[1m[Avg Loss for the Epoch NO.: 24, Loss: 0.006]\n",
            "\n",
            "\n",
            "\u001b[1mPerformance Statistics for Epoch Number :25\n",
            "\u001b[1m[Avg Loss for the Epoch NO.: 25, Loss: 0.004]\n",
            "\n",
            "\n",
            "Finished Training\n",
            "\u001b[1mTime Taken to Train the Model: --- 0.47 mins ---\n"
          ],
          "name": "stdout"
        }
      ]
    },
    {
      "cell_type": "code",
      "metadata": {
        "id": "dqGWFNJfdGWv",
        "colab_type": "code",
        "colab": {}
      },
      "source": [
        "file = open('model_ver1.pkl','wb')\n",
        "pickle.dump(model_ver1, file)\n",
        "file.close()\n",
        "\n",
        "file = open('model_ver1.pkl', 'rb')\n",
        "model_ver1 = pickle.load(file)\n",
        "file.close()\n"
      ],
      "execution_count": 0,
      "outputs": []
    },
    {
      "cell_type": "code",
      "metadata": {
        "id": "bSGgvbW5bWq7",
        "colab_type": "code",
        "outputId": "5aa44bb9-383f-4dec-8bbb-317936d22a5c",
        "colab": {
          "base_uri": "https://localhost:8080/",
          "height": 300
        }
      },
      "source": [
        "# plotting the training loss\n",
        "plt.plot(train_losses, label='Training loss')\n",
        "plt.title('Loss on the Training Set on Successive Epochs',size= 13)\n",
        "plt.legend()\n",
        "plt.xlabel('Epochs',size= 15)\n",
        "plt.ylabel('Loss',size=15)\n",
        "plt.show()\n"
      ],
      "execution_count": 0,
      "outputs": [
        {
          "output_type": "display_data",
          "data": {
            "image/png": "[encoded data removed]",
            "text/plain": [
              "<Figure size 432x288 with 1 Axes>"
            ]
          },
          "metadata": {
            "tags": []
          }
        }
      ]
    },
    {
      "cell_type": "code",
      "metadata": {
        "id": "8gWZn1LBccIt",
        "colab_type": "code",
        "outputId": "1b45a38f-8e57-4da3-9200-2568d60034f3",
        "colab": {
          "base_uri": "https://localhost:8080/",
          "height": 51
        }
      },
      "source": [
        "# ==========================================\n",
        "#            Evaluating Network\n",
        "# ==========================================\n",
        "\n",
        "def test_model(test_data,model_version):\n",
        "    start_time = time.time()\n",
        "    # prediction and Accuracy for Test set\n",
        "    correct = 0\n",
        "    total = 0\n",
        "    model_version.eval()            \n",
        "    for batch_num, data in enumerate(test_data, 0):\n",
        "        x_test, y_test = data\n",
        "        x_test = x_test.float()\n",
        "\n",
        "        if torch.cuda.is_available():\n",
        "            x_test = x_test.cuda()\n",
        "            y_test = y_test.cuda()\n",
        "\n",
        "        y_pred = model_version(x_test.cuda())\n",
        "        _, predicted = torch.max(y_pred.data, 1)\n",
        "        total += y_test.size(0)\n",
        "        correct += (predicted == y_test).sum().item()\n",
        "\n",
        "    print('\\033[1m' + 'Accuracy of the network on the test images: %d %%' % (100 * correct / total))\n",
        "    print('\\033[1m' + 'Time Taken for Evaluating Model on Test: ' + '--- %s seconds ---' % round((time.time() - start_time),2))\n",
        "\n",
        "test_model(testloader_small,model_ver1)\n"
      ],
      "execution_count": 62,
      "outputs": [
        {
          "output_type": "stream",
          "text": [
            "\u001b[1mAccuracy of the network on the test images: 62 %\n",
            "\u001b[1mTime Taken for Evaluating Model on Test: --- 0.05 seconds ---\n"
          ],
          "name": "stdout"
        }
      ]
    },
    {
      "cell_type": "markdown",
      "metadata": {
        "id": "H23KdDEfMJ4L",
        "colab_type": "text"
      },
      "source": [
        "### **Part 2 : Let's Try to Increase Accuracy  by Following Techniques**"
      ]
    },
    {
      "cell_type": "markdown",
      "metadata": {
        "id": "XuazRicsLYeh",
        "colab_type": "text"
      },
      "source": [
        "### **Method1: Adding Batch Normalization:**"
      ]
    },
    {
      "cell_type": "code",
      "metadata": {
        "id": "9CFwFdJALG6E",
        "colab_type": "code",
        "outputId": "c1b78fef-f3c9-41bd-c50f-1afbc1f52551",
        "colab": {
          "base_uri": "https://localhost:8080/",
          "height": 272
        }
      },
      "source": [
        "class CNN_Ver2(nn.Module):\n",
        "    def __init__(self, input_channels=1, num_classes=16):\n",
        "      super(CNN_Ver2, self).__init__()\n",
        "      self.layer1 = nn.Sequential()\n",
        "      self.layer1.add_module(\"Conv1\", nn.Conv2d(in_channels=input_channels, out_channels=16, kernel_size=5, padding=2,stride=1))\n",
        "      self.layer1.add_module(\"BN1\", nn.BatchNorm2d(num_features=16))\n",
        "      self.layer1.add_module(\"Relu1\", nn.ReLU())\n",
        "      self.layer1.add_module(\"MaxPool1\", nn.MaxPool2d(kernel_size=2))\n",
        "      \n",
        "      self.layer2 = nn.Sequential()\n",
        "      self.layer2.add_module(\"Conv2\", nn.Conv2d(in_channels=16, out_channels=32, kernel_size=5, padding=2, stride=1))\n",
        "      self.layer2.add_module(\"BN2\", nn.BatchNorm2d(num_features=32))\n",
        "      self.layer2.add_module(\"Relu2\", nn.ReLU())\n",
        "      self.layer2.add_module(\"MaxPool2\", nn.MaxPool2d(kernel_size=2))     \n",
        "      \n",
        "      self.fully_connected = nn.Linear(32 * 16 * 16, num_classes)\n",
        " \n",
        "    def forward(self, x):\n",
        "    \tx = self.layer1(x)\n",
        "    \tx = self.layer2(x)\n",
        "    \tx = x.view(x.size(0),-1)\n",
        "    \tx = self.fully_connected(x)\n",
        "    \treturn x\n",
        "\n",
        "# defining the model\n",
        "model_ver2 = CNN_Ver2()\n",
        "optimizer = optim.Adam(model_ver2.parameters(), lr=0.001)\n",
        "criterion = nn.CrossEntropyLoss()\n",
        "\n",
        "if torch.cuda.is_available():\n",
        "    model_ver2 = model_ver2.cuda()\n",
        "    criterion = criterion.cuda()\n",
        "    \n",
        "print(model_ver2)"
      ],
      "execution_count": 0,
      "outputs": [
        {
          "output_type": "stream",
          "text": [
            "CNN_Ver2(\n",
            "  (layer1): Sequential(\n",
            "    (Conv1): Conv2d(1, 16, kernel_size=(5, 5), stride=(1, 1), padding=(2, 2))\n",
            "    (BN1): BatchNorm2d(16, eps=1e-05, momentum=0.1, affine=True, track_running_stats=True)\n",
            "    (Relu1): ReLU()\n",
            "    (MaxPool1): MaxPool2d(kernel_size=2, stride=2, padding=0, dilation=1, ceil_mode=False)\n",
            "  )\n",
            "  (layer2): Sequential(\n",
            "    (Conv2): Conv2d(16, 32, kernel_size=(5, 5), stride=(1, 1), padding=(2, 2))\n",
            "    (BN2): BatchNorm2d(32, eps=1e-05, momentum=0.1, affine=True, track_running_stats=True)\n",
            "    (Relu2): ReLU()\n",
            "    (MaxPool2): MaxPool2d(kernel_size=2, stride=2, padding=0, dilation=1, ceil_mode=False)\n",
            "  )\n",
            "  (fully_connected): Linear(in_features=8192, out_features=16, bias=True)\n",
            ")\n"
          ],
          "name": "stdout"
        }
      ]
    },
    {
      "cell_type": "markdown",
      "metadata": {
        "id": "kGuHhf1jRgzO",
        "colab_type": "text"
      },
      "source": [
        "### Training the Method1 Model"
      ]
    },
    {
      "cell_type": "code",
      "metadata": {
        "id": "on9KbF3ULG-M",
        "colab_type": "code",
        "outputId": "00de3fa8-a55d-4576-d3f2-e7206bb8c0ca",
        "colab": {
          "base_uri": "https://localhost:8080/",
          "height": 51
        }
      },
      "source": [
        "##Training the Method1 Model\n",
        "start_time = time.time()\n",
        "n_epochs = 25\n",
        "for epoch in range(n_epochs):\n",
        "   train_model(trainloader_small,epoch,model_ver2,False, False)\n",
        "\n",
        "print('Finished Training')\n",
        "print('\\033[1m' + 'Time Taken to Train the Model: ' + '--- %s mins ---' % round((time.time() - start_time)/60,2))\n"
      ],
      "execution_count": 0,
      "outputs": [
        {
          "output_type": "stream",
          "text": [
            "Finished Training\n",
            "\u001b[1mTime Taken to Train the Model: --- 0.54 mins ---\n"
          ],
          "name": "stdout"
        }
      ]
    },
    {
      "cell_type": "markdown",
      "metadata": {
        "id": "6AziRL1vR5z0",
        "colab_type": "text"
      },
      "source": [
        "### Evaluating the Method1 Model on Test Data"
      ]
    },
    {
      "cell_type": "code",
      "metadata": {
        "id": "l7wNUzFFLHBM",
        "colab_type": "code",
        "outputId": "a0034229-fad9-469c-9b6e-1529ad35de15",
        "colab": {
          "base_uri": "https://localhost:8080/",
          "height": 51
        }
      },
      "source": [
        "test_model(testloader_small,model_ver2)"
      ],
      "execution_count": 0,
      "outputs": [
        {
          "output_type": "stream",
          "text": [
            "\u001b[1mAccuracy of the network on the test images: 64 %\n",
            "\u001b[1mTime Taken for Evaluating Model on Test: --- 0.06 seconds ---\n"
          ],
          "name": "stdout"
        }
      ]
    },
    {
      "cell_type": "markdown",
      "metadata": {
        "id": "ymca3ShKShxc",
        "colab_type": "text"
      },
      "source": [
        "### **We observe that Adding Batch Normalization Increases our Accuracy Marginally by 2-5%**"
      ]
    },
    {
      "cell_type": "markdown",
      "metadata": {
        "id": "hR2JAoLqcyo-",
        "colab_type": "text"
      },
      "source": [
        "### **Method2: Adding Dropout Layer:**"
      ]
    },
    {
      "cell_type": "code",
      "metadata": {
        "id": "TOvroadKTmAD",
        "colab_type": "code",
        "colab": {}
      },
      "source": [
        "class CNN_Ver3(nn.Module):\n",
        "    def __init__(self, input_channels=1, num_classes=16):\n",
        "      super(CNN_Ver3, self).__init__()\n",
        "      self.layer1 = nn.Sequential()\n",
        "      self.layer1.add_module(\"Conv1\", nn.Conv2d(in_channels=input_channels, out_channels=16, kernel_size=5, padding=2,stride=1))\n",
        "      self.layer1.add_module(\"BN1\", nn.BatchNorm2d(num_features=16))\n",
        "      self.layer1.add_module(\"Relu1\", nn.ReLU())\n",
        "      self.layer1.add_module(\"MaxPool1\", nn.MaxPool2d(kernel_size=2))\n",
        "      \n",
        "      self.layer2 = nn.Sequential()\n",
        "      self.layer2.add_module(\"Conv2\", nn.Conv2d(in_channels=16, out_channels=32, kernel_size=5, padding=2, stride=1))\n",
        "      self.layer2.add_module(\"BN2\", nn.BatchNorm2d(num_features=32))\n",
        "      self.layer2.add_module(\"Relu2\", nn.ReLU())\n",
        "      self.layer2.add_module(\"MaxPool2\", nn.MaxPool2d(kernel_size=2))\n",
        "      self.layer2.add_module(\"dropout\", nn.Dropout2d(0.001))     \n",
        "      \n",
        "      self.fully_connected = nn.Linear(32 * 16 * 16, num_classes)\n",
        " \n",
        "    def forward(self, x):\n",
        "    \tx = self.layer1(x)\n",
        "    \tx = self.layer2(x)\n",
        "    \tx = x.view(x.size(0),-1)\n",
        "    \tx = self.fully_connected(x)\n",
        "    \treturn x\n",
        "\n",
        "# defining the model\n",
        "model_ver3 = CNN_Ver3()\n",
        "optimizer = optim.Adam(model_ver3.parameters(), lr=0.005)\n",
        "criterion = nn.CrossEntropyLoss()\n",
        "\n",
        "if torch.cuda.is_available():\n",
        "    model_ver3 = model_ver3.cuda()\n",
        "    criterion = criterion.cuda()\n"
      ],
      "execution_count": 0,
      "outputs": []
    },
    {
      "cell_type": "code",
      "metadata": {
        "id": "a3tPWmZITmH3",
        "colab_type": "code",
        "outputId": "e447f498-f7a6-4347-a153-9fc715a7d750",
        "colab": {
          "base_uri": "https://localhost:8080/",
          "height": 85
        }
      },
      "source": [
        "##Training the Method1 Model\n",
        "start_time = time.time()\n",
        "n_epochs = 25\n",
        "for epoch in range(n_epochs):\n",
        "   train_model(trainloader_small,epoch,model_ver3,False, False)\n",
        "\n",
        "print('Finished Training')\n",
        "print('\\033[1m' + 'Time Taken to Train the Model: ' + '--- %s mins ---' % round((time.time() - start_time)/60,2))\n",
        "\n",
        "test_model(testloader_small,model_ver3)"
      ],
      "execution_count": 0,
      "outputs": [
        {
          "output_type": "stream",
          "text": [
            "Finished Training\n",
            "\u001b[1mTime Taken to Train the Model: --- 0.55 mins ---\n",
            "\u001b[1mAccuracy of the network on the test images: 62 %\n",
            "\u001b[1mTime Taken for Evaluating Model on Test: --- 0.04 seconds ---\n"
          ],
          "name": "stdout"
        }
      ]
    },
    {
      "cell_type": "markdown",
      "metadata": {
        "id": "Cnk99w9sjVby",
        "colab_type": "text"
      },
      "source": [
        "### **We observe that Adding Dropout Layer doesn't Increase our Accuracy much, by ~1-2%**"
      ]
    },
    {
      "cell_type": "markdown",
      "metadata": {
        "id": "vlfnwaxSjqOB",
        "colab_type": "text"
      },
      "source": [
        "### **Method3: Changing The Activation Function to Sigmoid and Leaky Relu:**"
      ]
    },
    {
      "cell_type": "code",
      "metadata": {
        "id": "8KTeg0VXTmTL",
        "colab_type": "code",
        "colab": {}
      },
      "source": [
        "class CNN_Ver4(nn.Module):\n",
        "    def __init__(self, input_channels=1, num_classes=16):\n",
        "      super(CNN_Ver4, self).__init__()\n",
        "      self.layer1 = nn.Sequential()\n",
        "      self.layer1.add_module(\"Conv1\", nn.Conv2d(in_channels=input_channels, out_channels=16, kernel_size=5, padding=2,stride=1))\n",
        "      self.layer1.add_module(\"BN1\", nn.BatchNorm2d(num_features=16))\n",
        "      self.layer1.add_module(\"Sigmoid1\", nn.Sigmoid())\n",
        "      self.layer1.add_module(\"MaxPool1\", nn.MaxPool2d(kernel_size=2))\n",
        "      \n",
        "      self.layer2 = nn.Sequential()\n",
        "      self.layer2.add_module(\"Conv2\", nn.Conv2d(in_channels=16, out_channels=32, kernel_size=5, padding=2, stride=1))\n",
        "      self.layer2.add_module(\"BN2\", nn.BatchNorm2d(num_features=32))\n",
        "      self.layer2.add_module(\"Sigmoid2\", nn.Sigmoid())\n",
        "      self.layer2.add_module(\"MaxPool2\", nn.MaxPool2d(kernel_size=2))     \n",
        "      \n",
        "      self.fully_connected = nn.Linear(32 * 16 * 16, num_classes)\n",
        " \n",
        "    def forward(self, x):\n",
        "    \tx = self.layer1(x)\n",
        "    \tx = self.layer2(x)\n",
        "    \tx = x.view(x.size(0),-1)\n",
        "    \tx = self.fully_connected(x)\n",
        "    \treturn x\n",
        "\n",
        "# defining the model\n",
        "model_ver4 = CNN_Ver4()\n",
        "optimizer = optim.Adam(model_ver4.parameters(), lr=0.001)\n",
        "criterion = nn.CrossEntropyLoss()\n",
        "\n",
        "if torch.cuda.is_available():\n",
        "    model_ver4 = model_ver4.cuda()\n",
        "    criterion = criterion.cuda()\n",
        "    "
      ],
      "execution_count": 0,
      "outputs": []
    },
    {
      "cell_type": "code",
      "metadata": {
        "id": "WYUgTz0-TmW0",
        "colab_type": "code",
        "outputId": "0d43ba6c-9069-4a36-c405-aeba83ac0cb2",
        "colab": {
          "base_uri": "https://localhost:8080/",
          "height": 85
        }
      },
      "source": [
        "##Training the Method1 Model\n",
        "start_time = time.time()\n",
        "n_epochs = 25\n",
        "for epoch in range(n_epochs):\n",
        "   train_model(trainloader_small,epoch,model_ver4,False, False)\n",
        "\n",
        "print('Finished Training')\n",
        "print('\\033[1m' + 'Time Taken to Train the Model: ' + '--- %s mins ---' % round((time.time() - start_time)/60,2))\n",
        "\n",
        "test_model(testloader_small,model_ver4)"
      ],
      "execution_count": 0,
      "outputs": [
        {
          "output_type": "stream",
          "text": [
            "Finished Training\n",
            "\u001b[1mTime Taken to Train the Model: --- 0.55 mins ---\n",
            "\u001b[1mAccuracy of the network on the test images: 58 %\n",
            "\u001b[1mTime Taken for Evaluating Model on Test: --- 0.04 seconds ---\n"
          ],
          "name": "stdout"
        }
      ]
    },
    {
      "cell_type": "markdown",
      "metadata": {
        "id": "CdyD0d2SnI-0",
        "colab_type": "text"
      },
      "source": [
        "### We observe that Changing Activation Function to *Sigmoid* deteriorates our Accuracy by ~5-10%"
      ]
    },
    {
      "cell_type": "markdown",
      "metadata": {
        "id": "oOeMiAfnn3jB",
        "colab_type": "text"
      },
      "source": [
        "### Let's check with Leaky Relu"
      ]
    },
    {
      "cell_type": "code",
      "metadata": {
        "id": "xZ5R4sHoTmZn",
        "colab_type": "code",
        "colab": {}
      },
      "source": [
        "class CNN_Ver5(nn.Module):\n",
        "    def __init__(self, input_channels=1, num_classes=16):\n",
        "      super(CNN_Ver5, self).__init__()\n",
        "      self.layer1 = nn.Sequential()\n",
        "      self.layer1.add_module(\"Conv1\", nn.Conv2d(in_channels=input_channels, out_channels=16, kernel_size=5, padding=2,stride=1))\n",
        "      self.layer1.add_module(\"BN1\", nn.BatchNorm2d(num_features=16))\n",
        "      self.layer1.add_module(\"Lrelu1\", nn.LeakyReLU())\n",
        "      self.layer1.add_module(\"MaxPool1\", nn.MaxPool2d(kernel_size=2))\n",
        "      \n",
        "      self.layer2 = nn.Sequential()\n",
        "      self.layer2.add_module(\"Conv2\", nn.Conv2d(in_channels=16, out_channels=32, kernel_size=5, padding=2, stride=1))\n",
        "      self.layer2.add_module(\"BN2\", nn.BatchNorm2d(num_features=32))\n",
        "      self.layer2.add_module(\"Lrelu2\", nn.LeakyReLU())\n",
        "      self.layer2.add_module(\"MaxPool2\", nn.MaxPool2d(kernel_size=2))     \n",
        "      \n",
        "      self.fully_connected = nn.Linear(32 * 16 * 16, num_classes)\n",
        " \n",
        "    def forward(self, x):\n",
        "    \tx = self.layer1(x)\n",
        "    \tx = self.layer2(x)\n",
        "    \tx = x.view(x.size(0),-1)\n",
        "    \tx = self.fully_connected(x)\n",
        "    \treturn x\n",
        "\n",
        "# defining the model\n",
        "model_ver5 = CNN_Ver5()\n",
        "optimizer = optim.Adam(model_ver5.parameters(), lr=0.001)\n",
        "criterion = nn.CrossEntropyLoss()\n",
        "\n",
        "if torch.cuda.is_available():\n",
        "    model_ver5 = model_ver5.cuda()\n",
        "    criterion = criterion.cuda()\n",
        "    "
      ],
      "execution_count": 0,
      "outputs": []
    },
    {
      "cell_type": "code",
      "metadata": {
        "id": "RfWPfhgyTmcZ",
        "colab_type": "code",
        "outputId": "c6d9d3ef-06d6-486c-f424-ab46c21f4b81",
        "colab": {
          "base_uri": "https://localhost:8080/",
          "height": 85
        }
      },
      "source": [
        "##Training the Method1 Model\n",
        "start_time = time.time()\n",
        "n_epochs = 25\n",
        "for epoch in range(n_epochs):\n",
        "   train_model(trainloader_small,epoch,model_ver5,False, False)\n",
        "\n",
        "print('Finished Training')\n",
        "print('\\033[1m' + 'Time Taken to Train the Model: ' + '--- %s mins ---' % round((time.time() - start_time)/60,2))\n",
        "\n",
        "test_model(testloader_small,model_ver5)"
      ],
      "execution_count": 0,
      "outputs": [
        {
          "output_type": "stream",
          "text": [
            "Finished Training\n",
            "\u001b[1mTime Taken to Train the Model: --- 0.55 mins ---\n",
            "\u001b[1mAccuracy of the network on the test images: 64 %\n",
            "\u001b[1mTime Taken for Evaluating Model on Test: --- 0.04 seconds ---\n"
          ],
          "name": "stdout"
        }
      ]
    },
    {
      "cell_type": "markdown",
      "metadata": {
        "id": "cHTOqYsjpCia",
        "colab_type": "text"
      },
      "source": [
        "### We observe that Changing Activation Function to *LeakyRelu* gives more or less same Accuracy as Relu"
      ]
    },
    {
      "cell_type": "markdown",
      "metadata": {
        "id": "klKDdQ-jYnxa",
        "colab_type": "text"
      },
      "source": [
        "### **Method4: Augmenting Data by rotating the Image and checking Accuracy on Trained Model1:**"
      ]
    },
    {
      "cell_type": "code",
      "metadata": {
        "id": "7w1elNcO3Okt",
        "colab_type": "code",
        "colab": {
          "base_uri": "https://localhost:8080/",
          "height": 629
        },
        "outputId": "20b695d0-c10c-4c4e-f6e6-88cf6a391c45"
      },
      "source": [
        "# load data into size (64, 64)\n",
        "\n",
        "start_time = time.time()\n",
        "img_size = (64, 64)\n",
        "batch_num = 50 # training sample number per batch\n",
        "\n",
        "# load training dataset\n",
        "trainloader_small_rot = list(load_dataset('./data/train/', img_size, batch_num=batch_num, shuffle=True, \n",
        "                                      augment=True, zero_centered=True,rotate_90=True))\n",
        "train_num = len(trainloader_small_rot)\n",
        "print(\"Finish loading %d minibatches(=%d) of training samples.\" % (train_num, batch_num))\n",
        "\n",
        "print('\\033[1m' + 'Time Taken to load the Training: ' + '--- %s minutes ---' % round((time.time() - start_time)/60,2))\n"
      ],
      "execution_count": 44,
      "outputs": [
        {
          "output_type": "stream",
          "text": [
            "Loading images from class: 0\n",
            "Loading images from class: 1\n",
            "Loading images from class: 2\n",
            "Loading images from class: 3\n",
            "Loading images from class: 4\n",
            "Loading images from class: 5\n",
            "Loading images from class: 6\n",
            "Loading images from class: 7\n",
            "Loading images from class: 8\n",
            "Loading images from class: 9\n",
            "Loading images from class: 10\n",
            "Loading images from class: 11\n",
            "Loading images from class: 12\n",
            "Loading images from class: 13\n",
            "Loading images from class: 14\n",
            "Loading images from class: 15\n",
            "Loading images from class: 0\n",
            "Loading images from class: 1\n",
            "Loading images from class: 2\n",
            "Loading images from class: 3\n",
            "Loading images from class: 4\n",
            "Loading images from class: 5\n",
            "Loading images from class: 6\n",
            "Loading images from class: 7\n",
            "Loading images from class: 8\n",
            "Loading images from class: 9\n",
            "Loading images from class: 10\n",
            "Loading images from class: 11\n",
            "Loading images from class: 12\n",
            "Loading images from class: 13\n",
            "Loading images from class: 14\n",
            "Loading images from class: 15\n",
            "9600\n",
            "50\n",
            "Finish loading 192 minibatches(=50) of training samples.\n",
            "\u001b[1mTime Taken to load the Training: --- 0.34 minutes ---\n"
          ],
          "name": "stdout"
        }
      ]
    },
    {
      "cell_type": "code",
      "metadata": {
        "id": "xOCUl2HS3Ouw",
        "colab_type": "code",
        "colab": {
          "base_uri": "https://localhost:8080/",
          "height": 34
        },
        "outputId": "5d34e6c9-41b2-4d82-c358-d675b22b712d"
      },
      "source": [
        "# # # Save intermediate image data into disk\n",
        "# file = open('trainloader_small_rot.pkl','wb')\n",
        "# pickle.dump(trainloader_small_rot, file)\n",
        "\n",
        "\n",
        "# Load intermediate image data from disk\n",
        "file = open('trainloader_small_rot.pkl', 'rb')\n",
        "trainloader_small_rot = pickle.load(file)\n",
        "file.close()\n",
        "# Verify number of training samples after rotating images and augmenting\n",
        "print('\\033[1m' + 'Training Samples: ' + str(len(trainloader_small_rot)*50)) \n",
        "\n"
      ],
      "execution_count": 53,
      "outputs": [
        {
          "output_type": "stream",
          "text": [
            "\u001b[1mTraining Samples: 9600\n"
          ],
          "name": "stdout"
        }
      ]
    },
    {
      "cell_type": "code",
      "metadata": {
        "id": "DM5QaH7g3Op2",
        "colab_type": "code",
        "colab": {
          "base_uri": "https://localhost:8080/",
          "height": 1000
        },
        "outputId": "fc0bf96b-d91a-4d53-d86e-1175b58a1152"
      },
      "source": [
        "## Training using the CNN_Ver1, model_ver1\n",
        "\n",
        "start_time = time.time()\n",
        "# defining the number of epochs\n",
        "n_epochs = 25\n",
        "# empty list to store training losses\n",
        "train_losses = []\n",
        "# loop over the dataset multiple times\n",
        "for epoch in range(n_epochs):\n",
        "   train_model(trainloader_small_rot,epoch,model_ver1, False, True)\n",
        "\n",
        "print('Finished Training')\n",
        "print('\\033[1m' + 'Time Taken to Train the Model: ' + '--- %s mins ---' % round((time.time() - start_time)/60,2))\n"
      ],
      "execution_count": 54,
      "outputs": [
        {
          "output_type": "stream",
          "text": [
            "\u001b[1mPerformance Statistics for Epoch Number :1\n",
            "\u001b[1m[Avg Loss for the Epoch NO.: 1, Loss: 2.274]\n",
            "\n",
            "\n",
            "\u001b[1mPerformance Statistics for Epoch Number :2\n",
            "\u001b[1m[Avg Loss for the Epoch NO.: 2, Loss: 1.707]\n",
            "\n",
            "\n",
            "\u001b[1mPerformance Statistics for Epoch Number :3\n",
            "\u001b[1m[Avg Loss for the Epoch NO.: 3, Loss: 1.365]\n",
            "\n",
            "\n",
            "\u001b[1mPerformance Statistics for Epoch Number :4\n",
            "\u001b[1m[Avg Loss for the Epoch NO.: 4, Loss: 1.134]\n",
            "\n",
            "\n",
            "\u001b[1mPerformance Statistics for Epoch Number :5\n",
            "\u001b[1m[Avg Loss for the Epoch NO.: 5, Loss: 0.954]\n",
            "\n",
            "\n",
            "\u001b[1mPerformance Statistics for Epoch Number :6\n",
            "\u001b[1m[Avg Loss for the Epoch NO.: 6, Loss: 0.787]\n",
            "\n",
            "\n",
            "\u001b[1mPerformance Statistics for Epoch Number :7\n",
            "\u001b[1m[Avg Loss for the Epoch NO.: 7, Loss: 0.630]\n",
            "\n",
            "\n",
            "\u001b[1mPerformance Statistics for Epoch Number :8\n",
            "\u001b[1m[Avg Loss for the Epoch NO.: 8, Loss: 0.534]\n",
            "\n",
            "\n",
            "\u001b[1mPerformance Statistics for Epoch Number :9\n",
            "\u001b[1m[Avg Loss for the Epoch NO.: 9, Loss: 0.475]\n",
            "\n",
            "\n",
            "\u001b[1mPerformance Statistics for Epoch Number :10\n",
            "\u001b[1m[Avg Loss for the Epoch NO.: 10, Loss: 0.447]\n",
            "\n",
            "\n",
            "\u001b[1mPerformance Statistics for Epoch Number :11\n",
            "\u001b[1m[Avg Loss for the Epoch NO.: 11, Loss: 0.349]\n",
            "\n",
            "\n",
            "\u001b[1mPerformance Statistics for Epoch Number :12\n",
            "\u001b[1m[Avg Loss for the Epoch NO.: 12, Loss: 0.222]\n",
            "\n",
            "\n",
            "\u001b[1mPerformance Statistics for Epoch Number :13\n",
            "\u001b[1m[Avg Loss for the Epoch NO.: 13, Loss: 0.171]\n",
            "\n",
            "\n",
            "\u001b[1mPerformance Statistics for Epoch Number :14\n",
            "\u001b[1m[Avg Loss for the Epoch NO.: 14, Loss: 0.154]\n",
            "\n",
            "\n",
            "\u001b[1mPerformance Statistics for Epoch Number :15\n",
            "\u001b[1m[Avg Loss for the Epoch NO.: 15, Loss: 0.135]\n",
            "\n",
            "\n",
            "\u001b[1mPerformance Statistics for Epoch Number :16\n",
            "\u001b[1m[Avg Loss for the Epoch NO.: 16, Loss: 0.117]\n",
            "\n",
            "\n",
            "\u001b[1mPerformance Statistics for Epoch Number :17\n",
            "\u001b[1m[Avg Loss for the Epoch NO.: 17, Loss: 0.108]\n",
            "\n",
            "\n",
            "\u001b[1mPerformance Statistics for Epoch Number :18\n",
            "\u001b[1m[Avg Loss for the Epoch NO.: 18, Loss: 0.099]\n",
            "\n",
            "\n",
            "\u001b[1mPerformance Statistics for Epoch Number :19\n",
            "\u001b[1m[Avg Loss for the Epoch NO.: 19, Loss: 0.081]\n",
            "\n",
            "\n",
            "\u001b[1mPerformance Statistics for Epoch Number :20\n",
            "\u001b[1m[Avg Loss for the Epoch NO.: 20, Loss: 0.075]\n",
            "\n",
            "\n",
            "\u001b[1mPerformance Statistics for Epoch Number :21\n",
            "\u001b[1m[Avg Loss for the Epoch NO.: 21, Loss: 0.062]\n",
            "\n",
            "\n",
            "\u001b[1mPerformance Statistics for Epoch Number :22\n",
            "\u001b[1m[Avg Loss for the Epoch NO.: 22, Loss: 0.053]\n",
            "\n",
            "\n",
            "\u001b[1mPerformance Statistics for Epoch Number :23\n",
            "\u001b[1m[Avg Loss for the Epoch NO.: 23, Loss: 0.050]\n",
            "\n",
            "\n",
            "\u001b[1mPerformance Statistics for Epoch Number :24\n",
            "\u001b[1m[Avg Loss for the Epoch NO.: 24, Loss: 0.043]\n",
            "\n",
            "\n",
            "\u001b[1mPerformance Statistics for Epoch Number :25\n",
            "\u001b[1m[Avg Loss for the Epoch NO.: 25, Loss: 0.031]\n",
            "\n",
            "\n",
            "Finished Training\n",
            "\u001b[1mTime Taken to Train the Model: --- 0.96 mins ---\n"
          ],
          "name": "stdout"
        }
      ]
    },
    {
      "cell_type": "code",
      "metadata": {
        "id": "sG8MGXaKZVLG",
        "colab_type": "code",
        "colab": {
          "base_uri": "https://localhost:8080/",
          "height": 300
        },
        "outputId": "1b734d6e-4fe5-4c21-e170-3f1d3e7b5d8e"
      },
      "source": [
        "# plotting the training loss\n",
        "plt.plot(train_losses, label='Training loss')\n",
        "plt.title('Loss on the Augmented Training Set using Image Rotation',size= 13)\n",
        "plt.legend()\n",
        "plt.xlabel('Epochs',size= 15)\n",
        "plt.ylabel('Loss',size=15)\n",
        "plt.show()\n"
      ],
      "execution_count": 55,
      "outputs": [
        {
          "output_type": "display_data",
          "data": {
            "image/png": "[encoded data removed]",
            "text/plain": [
              "<Figure size 432x288 with 1 Axes>"
            ]
          },
          "metadata": {
            "tags": []
          }
        }
      ]
    },
    {
      "cell_type": "code",
      "metadata": {
        "id": "OjqirXbSYIwS",
        "colab_type": "code",
        "colab": {
          "base_uri": "https://localhost:8080/",
          "height": 51
        },
        "outputId": "350e3f8c-bf06-4e0b-d857-19b9513ef9f0"
      },
      "source": [
        "file = open('testloader_small.pkl', 'rb')\n",
        "testloader_small = pickle.load(file)\n",
        "file.close()\n",
        "test_model(testloader_small,model_ver1)\n"
      ],
      "execution_count": 58,
      "outputs": [
        {
          "output_type": "stream",
          "text": [
            "\u001b[1mAccuracy of the network on the test images: 36 %\n",
            "\u001b[1mTime Taken for Evaluating Model on Test: --- 0.05 seconds ---\n"
          ],
          "name": "stdout"
        }
      ]
    },
    {
      "cell_type": "markdown",
      "metadata": {
        "id": "khxEaauOZ1gz",
        "colab_type": "text"
      },
      "source": [
        "**We observe that with Rotating Image and Augmentating in the Training Set, our accuracy falls by a significant amount, so this has least significance**"
      ]
    },
    {
      "cell_type": "markdown",
      "metadata": {
        "id": "33m1bq0gbwzY",
        "colab_type": "text"
      },
      "source": [
        "### ***Complete Report for the Question 1:***\n",
        "\n",
        "**Part1 :**\n",
        "*   On the given 2400 training and 400 test images, we augmented Data by doing mirror image \n",
        "*   We Normalized the training and test data, and centered around zero\n",
        "*   Build first CNN model with below parameters:\n",
        ">  Two Hidden Layers, [Kernel Size = 5 with Stride= 1 and padding =2],\n",
        "> Activation Function : Relu,\n",
        "> MaxPool : [kernel_size=2, stride=2, padding=0]\n",
        "*   Time taken for training the data set 0.48mins and time taken for evaluating the model on test data 0.05secs\n",
        "*   **Accuracy Observed = 62%**\n",
        "\n",
        "**Part2 :**\n",
        "We Apply below Methods to further investigate and improve our Accuracy:\n",
        "# Method1: Batch Normalization\n",
        ">  Layer1: nn.BatchNorm2d(num_features=16) , Layer2: nn.BatchNorm2d(num_features=32)\n",
        ">> **Accuracy Observed = 64%**\n",
        "\n",
        "# Method2: Adding Dropout Layer\n",
        ">  Layer2: nn.Dropout2d(0.001) \n",
        ">> **Accuracy Observed = 62%**\n",
        "\n",
        "# Method3: Changing Activation Function to Sigmoid , Leaky Relu\n",
        ">  Adding Sigmoid and Leaky Relu in Layer1 and Layer2: \n",
        ">> **Accuracy Observed = 58%** with nn.Sigmoid()\n",
        "\n",
        ">> **Accuracy Observed = 58%** with nn.LeakyReLU()\n",
        "\n",
        "# Method4: Image Rotation\n",
        ">  Rotaing Images by 90degree and augmenting in the dataset, our 4800 Training Set doubles to 9600 Training Samples\n",
        ">> **Accuracy Observed = 36%, worst performance observed**\n",
        "\n",
        "\n",
        "\n",
        "\n",
        "\n",
        "\n",
        "\n",
        "\n"
      ]
    },
    {
      "cell_type": "markdown",
      "metadata": {
        "id": "4s7Uu9BQqBkG",
        "colab_type": "text"
      },
      "source": [
        "## **Summary : Best Accuracy observed = 64% by using RELU Activation Function and Batch Normalisation**"
      ]
    },
    {
      "cell_type": "markdown",
      "metadata": {
        "collapsed": true,
        "id": "nBHKIxzAYYM2",
        "colab_type": "text"
      },
      "source": [
        "## Problem 2: Fine Tuning a Pre-Trained Deep Network\n",
        "{Part 1: 30 points} Our convolutional network to this point isn't \"deep\". Fortunately, the representations learned by deep convolutional networks is that they generalize surprisingly well to other recognition tasks. \n",
        "\n",
        "But how do we use an existing deep network for a new recognition task? Take for instance,  [AlexNet](http://papers.nips.cc/paper/4824-imagenet-classification-with-deep-convolutional-neural-networks) network has 1000 units in the final layer corresponding to 1000 ImageNet categories.\n",
        "\n",
        "**Strategy A**: One could use those 1000 activations as a feature in place of a hand crafted feature such as a bag-of-features representation. You would train a classifier (typically a linear SVM) in that 1000 dimensional feature space. However, those activations are clearly very object specific and may not generalize well to new recognition tasks. It is generally better to use the activations in slightly earlier layers of the network, e.g. the 4096 activations in the last 2nd fully-connected layer. You can often get away with sub-sampling those 4096 activations considerably, e.g. taking only the first 200 activations. \n",
        "\n",
        "**Strategy B**: *Fine-tune* an existing network. In this scenario you take an existing network, replace the final layer (or more) with random weights, and train the entire network again with images and ground truth labels for your recognition task. You are effectively treating the pre-trained deep network as a better initialization than the random weights used when training from scratch. When you don't have enough training data to train a complex network from scratch (e.g. with the 16 classes) this is an attractive option. Fine-tuning can work far better than Strategy A of taking the activations directly from an pre-trained CNN. For example, in [this paper](http://www.cc.gatech.edu/~hays/papers/deep_geo.pdf) from CVPR 2015, there wasn't enough data to train a deep network from scratch, but fine tuning led to 4 times higher accuracy than using off-the-shelf networks directly.\n",
        "\n",
        "You are required to implement **Strategy B** to fine-tune a pre-trained **AlexNet** for this scene classification task. You should be able to achieve performance of 85% approximately. It takes roughly 35~40 minutes to train 20 epoches with AlexNet.\n",
        "\n",
        "Please provide detailed descriptions of:<br>\n",
        "(1) which layers of AlexNet have been replaced<br>\n",
        "(2) the architecture of the new layers added including activation methods (same as problem 1)<br>\n",
        "(3) the final accuracy on test set along with time consumption for both training and testing <br>\n",
        "\n",
        "{Part 2: 20 points} Implement Strategy A where you use the activations of the pre-trained network as features to train one-vs-all SVMs for your scene classification task. Report the final accuracy on test set along with time consumption for both training and testing.\n",
        "\n",
        "{Bonus: 10 points} Bonus will be given to those who fine-tune the [VGG network](https://pytorch.org/docs/stable/_modules/torchvision/models/vgg.html) [paper](https://arxiv.org/pdf/1409.1556.pdf) and compare performance with AlexNet. Explain why VGG performed better or worse.\n",
        "\n",
        "**Hints**:\n",
        "- Many pre-trained models are available in PyTorch at [here](http://pytorch.org/docs/master/torchvision/models.html).\n",
        "- For fine-tuning pretrained network using PyTorch, please read this [tutorial](http://pytorch.org/tutorials/beginner/transfer_learning_tutorial.html)."
      ]
    },
    {
      "cell_type": "code",
      "metadata": {
        "id": "VLG3WtEmYYM3",
        "colab_type": "code",
        "colab": {}
      },
      "source": [
        "# reload data with a larger size\n",
        "img_size = (224, 224)\n",
        "batch_num = 50 # training sample number per batch \n",
        "\n",
        "# load training dataset\n",
        "trainloader_large = list(load_dataset('./data/train/', img_size, batch_num=batch_num, shuffle=True, \n",
        "                                      augment=False, is_color=True, zero_centered=True))\n",
        "train_num = len(trainloader_large)\n",
        "print(\"Finish loading %d minibatches(=%d) of training samples.\" % (train_num, batch_num))\n",
        "\n",
        "# load testing dataset\n",
        "testloader_large = list(load_dataset('./data/test/', img_size, num_per_class=50, batch_num=batch_num, is_color=True))\n",
        "test_num = len(testloader_large)\n",
        "print(\"Finish loading %d minibatches(=%d) of testing samples.\" % (test_num, batch_num))\n"
      ],
      "execution_count": 0,
      "outputs": []
    },
    {
      "cell_type": "code",
      "metadata": {
        "id": "P31KgbrXaJVs",
        "colab_type": "code",
        "colab": {}
      },
      "source": [
        "# file = open('trainloader_large.pkl','wb')\n",
        "# pickle.dump(trainloader_large, file)\n",
        "# file.close()\n",
        "\n",
        "# file = open('testloader_large.pkl','wb')\n",
        "# pickle.dump(testloader_large, file)\n",
        "# file.close()"
      ],
      "execution_count": 0,
      "outputs": []
    },
    {
      "cell_type": "code",
      "metadata": {
        "id": "OENHQs7dadkU",
        "colab_type": "code",
        "colab": {}
      },
      "source": [
        "# Load intermediate image data from disk\n",
        "file = open('trainloader_large.pkl', 'rb')\n",
        "trainloader_large = pickle.load(file)\n",
        "file.close()\n",
        "\n",
        "file = open('testloader_large.pkl', 'rb')\n",
        "testloader_large = pickle.load(file)\n",
        "file.close()"
      ],
      "execution_count": 0,
      "outputs": []
    },
    {
      "cell_type": "code",
      "metadata": {
        "id": "ZnuXq1lZvaOb",
        "colab_type": "code",
        "outputId": "0d86a746-6f2a-4f55-a51a-0fcd953c9a5c",
        "colab": {
          "base_uri": "https://localhost:8080/",
          "height": 85
        }
      },
      "source": [
        "print('\\033[1m' + 'Total Large Size Training Samples: ' + str(len(trainloader_large)*50)) # Verify number of training samples\n",
        "print('\\033[1m' + 'Total Large Size Test Samples: ' +  str(len(testloader_large)*50))   # Verify number of testing samples\n",
        "\n",
        "print('\\033[1m' + 'Total Large Size Training Batches: ' + str(len(trainloader_large))) \n",
        "print('\\033[1m' + 'Total Large Size Test Batches: ' + str(len(testloader_large))) "
      ],
      "execution_count": 0,
      "outputs": [
        {
          "output_type": "stream",
          "text": [
            "\u001b[1mTotal Large Size Training Samples: 2400\n",
            "\u001b[1mTotal Large Size Test Samples: 400\n",
            "\u001b[1mTotal Large Size Training Batches: 48\n",
            "\u001b[1mTotal Large Size Test Batches: 8\n"
          ],
          "name": "stdout"
        }
      ]
    },
    {
      "cell_type": "markdown",
      "metadata": {
        "id": "e7QxHFZJfngF",
        "colab_type": "text"
      },
      "source": [
        "**Strategy B : Fine Tuning Alex Net**"
      ]
    },
    {
      "cell_type": "code",
      "metadata": {
        "id": "btOal_ampEnm",
        "colab_type": "code",
        "outputId": "de58a284-6fb4-47de-f008-da6069651353",
        "colab": {
          "base_uri": "https://localhost:8080/",
          "height": 476
        }
      },
      "source": [
        "# ==========================================\n",
        "#       Fine-Tune Pretrained Alex Network\n",
        "# ==========================================\n",
        "\n",
        "num_classes=16\n",
        "import torchvision.models as models\n",
        "\n",
        "##Initialising the Model for the Alex Net for fine tuning with the ouput Layer to 16 classess\n",
        "def initialize_model(num_classes, use_pretrained=True):\n",
        "    model_ft = models.alexnet(pretrained=use_pretrained)\n",
        "    num_ftrs = model_ft.classifier[6].in_features\n",
        "    model_ft.classifier[6] = nn.Linear(num_ftrs,num_classes) \n",
        "    return model_ft\n",
        "\n",
        "# Initialize the model\n",
        "model_ft = initialize_model(num_classes, use_pretrained=True)\n",
        "print(model_ft)\n"
      ],
      "execution_count": 0,
      "outputs": [
        {
          "output_type": "stream",
          "text": [
            "AlexNet(\n",
            "  (features): Sequential(\n",
            "    (0): Conv2d(3, 64, kernel_size=(11, 11), stride=(4, 4), padding=(2, 2))\n",
            "    (1): ReLU(inplace=True)\n",
            "    (2): MaxPool2d(kernel_size=3, stride=2, padding=0, dilation=1, ceil_mode=False)\n",
            "    (3): Conv2d(64, 192, kernel_size=(5, 5), stride=(1, 1), padding=(2, 2))\n",
            "    (4): ReLU(inplace=True)\n",
            "    (5): MaxPool2d(kernel_size=3, stride=2, padding=0, dilation=1, ceil_mode=False)\n",
            "    (6): Conv2d(192, 384, kernel_size=(3, 3), stride=(1, 1), padding=(1, 1))\n",
            "    (7): ReLU(inplace=True)\n",
            "    (8): Conv2d(384, 256, kernel_size=(3, 3), stride=(1, 1), padding=(1, 1))\n",
            "    (9): ReLU(inplace=True)\n",
            "    (10): Conv2d(256, 256, kernel_size=(3, 3), stride=(1, 1), padding=(1, 1))\n",
            "    (11): ReLU(inplace=True)\n",
            "    (12): MaxPool2d(kernel_size=3, stride=2, padding=0, dilation=1, ceil_mode=False)\n",
            "  )\n",
            "  (avgpool): AdaptiveAvgPool2d(output_size=(6, 6))\n",
            "  (classifier): Sequential(\n",
            "    (0): Dropout(p=0.5, inplace=False)\n",
            "    (1): Linear(in_features=9216, out_features=4096, bias=True)\n",
            "    (2): ReLU(inplace=True)\n",
            "    (3): Dropout(p=0.5, inplace=False)\n",
            "    (4): Linear(in_features=4096, out_features=4096, bias=True)\n",
            "    (5): ReLU(inplace=True)\n",
            "    (6): Linear(in_features=4096, out_features=16, bias=True)\n",
            "  )\n",
            ")\n"
          ],
          "name": "stdout"
        }
      ]
    },
    {
      "cell_type": "markdown",
      "metadata": {
        "id": "q96cS-N9Qs0h",
        "colab_type": "text"
      },
      "source": [
        "### Create the Optimizer"
      ]
    },
    {
      "cell_type": "code",
      "metadata": {
        "id": "8FKAwN-F2Wam",
        "colab_type": "code",
        "colab": {}
      },
      "source": [
        "#checking if GPU is available\n",
        "if torch.cuda.is_available():\n",
        "    model_ft = model_ft.cuda()"
      ],
      "execution_count": 0,
      "outputs": []
    },
    {
      "cell_type": "code",
      "metadata": {
        "id": "u6s_dV5oQnMX",
        "colab_type": "code",
        "colab": {}
      },
      "source": [
        "params_to_update = model_ft.parameters()\n",
        "\n",
        "optimizer_ft = optim.SGD(params_to_update, lr=0.001, momentum=0.9)\n",
        "criterion = nn.CrossEntropyLoss().cuda()\n"
      ],
      "execution_count": 0,
      "outputs": []
    },
    {
      "cell_type": "code",
      "metadata": {
        "id": "xlDk02vL2Wg5",
        "colab_type": "code",
        "outputId": "76633f94-33e1-447d-bd60-475fd6bc9e87",
        "colab": {
          "base_uri": "https://localhost:8080/",
          "height": 1000
        }
      },
      "source": [
        "##Training the Method1 Model\n",
        "start_time = time.time()\n",
        "n_epochs = 25\n",
        "train_losses=[]\n",
        "\n",
        "for epoch in range(n_epochs):\n",
        "    print('\\033[1m' + 'Performance Statistics for Epoch Number :' + str(epoch + 1))\n",
        "    train_running_loss = 0.0\n",
        "    train_total_loss= 0.0\n",
        "    for batch_num, data in enumerate(trainloader_large, 0):\n",
        "        # getting the inputs; data is a tensor tuple list of [inputs, labels]\n",
        "        x_train, y_train = data   \n",
        "        x_train = x_train.float() \n",
        "\n",
        "        # converting the data into GPU format\n",
        "        if torch.cuda.is_available():\n",
        "            x_train = x_train.cuda()\n",
        "            y_train = y_train.cuda()\n",
        "\n",
        "        optimizer_ft.zero_grad()\n",
        "        output_train = model_ft(x_train)\n",
        "        loss_train = criterion(output_train, y_train)\n",
        "        loss_train.backward()\n",
        "        optimizer_ft.step()\n",
        "\n",
        "        # print statistics\n",
        "        train_running_loss += loss_train.item()\n",
        "        train_total_loss += loss_train.item()\n",
        "\n",
        "        if batch_num % 20 == 19:    # print every 20 mini-batches\n",
        "            # print('\\033[1m' + '[Batch NO.: %d, Mini Batch: %5d] loss: %.3f' %\n",
        "            #       (epoch + 1, batch_num + 1, train_running_loss / 20))\n",
        "            train_running_loss = 0.0\n",
        "    train_losses.append(train_total_loss/(batch_num + 1))\n",
        "    \n",
        "    print('\\033[1m' + '[Avg Loss for the Epoch NO.: %d, Loss: %.3f]' % (epoch + 1, train_total_loss/(batch_num + 1)))\n",
        "    print('\\n')\n",
        "\n",
        "print('Finished Training')\n",
        "print('\\033[1m' + 'Time Taken to Train the Model: ' + '--- %s mins ---' % round((time.time() - start_time)/60,2))\n"
      ],
      "execution_count": 0,
      "outputs": [
        {
          "output_type": "stream",
          "text": [
            "\u001b[1mPerformance Statistics for Epoch Number :1\n",
            "\u001b[1m[Avg Loss for the Epoch NO.: 1, Loss: 1.424]\n",
            "\n",
            "\n",
            "\u001b[1mPerformance Statistics for Epoch Number :2\n",
            "\u001b[1m[Avg Loss for the Epoch NO.: 2, Loss: 0.766]\n",
            "\n",
            "\n",
            "\u001b[1mPerformance Statistics for Epoch Number :3\n",
            "\u001b[1m[Avg Loss for the Epoch NO.: 3, Loss: 0.606]\n",
            "\n",
            "\n",
            "\u001b[1mPerformance Statistics for Epoch Number :4\n",
            "\u001b[1m[Avg Loss for the Epoch NO.: 4, Loss: 0.477]\n",
            "\n",
            "\n",
            "\u001b[1mPerformance Statistics for Epoch Number :5\n",
            "\u001b[1m[Avg Loss for the Epoch NO.: 5, Loss: 0.390]\n",
            "\n",
            "\n",
            "\u001b[1mPerformance Statistics for Epoch Number :6\n",
            "\u001b[1m[Avg Loss for the Epoch NO.: 6, Loss: 0.323]\n",
            "\n",
            "\n",
            "\u001b[1mPerformance Statistics for Epoch Number :7\n",
            "\u001b[1m[Avg Loss for the Epoch NO.: 7, Loss: 0.240]\n",
            "\n",
            "\n",
            "\u001b[1mPerformance Statistics for Epoch Number :8\n",
            "\u001b[1m[Avg Loss for the Epoch NO.: 8, Loss: 0.214]\n",
            "\n",
            "\n",
            "\u001b[1mPerformance Statistics for Epoch Number :9\n",
            "\u001b[1m[Avg Loss for the Epoch NO.: 9, Loss: 0.191]\n",
            "\n",
            "\n",
            "\u001b[1mPerformance Statistics for Epoch Number :10\n",
            "\u001b[1m[Avg Loss for the Epoch NO.: 10, Loss: 0.172]\n",
            "\n",
            "\n",
            "\u001b[1mPerformance Statistics for Epoch Number :11\n",
            "\u001b[1m[Avg Loss for the Epoch NO.: 11, Loss: 0.124]\n",
            "\n",
            "\n",
            "\u001b[1mPerformance Statistics for Epoch Number :12\n",
            "\u001b[1m[Avg Loss for the Epoch NO.: 12, Loss: 0.099]\n",
            "\n",
            "\n",
            "\u001b[1mPerformance Statistics for Epoch Number :13\n",
            "\u001b[1m[Avg Loss for the Epoch NO.: 13, Loss: 0.092]\n",
            "\n",
            "\n",
            "\u001b[1mPerformance Statistics for Epoch Number :14\n",
            "\u001b[1m[Avg Loss for the Epoch NO.: 14, Loss: 0.069]\n",
            "\n",
            "\n",
            "\u001b[1mPerformance Statistics for Epoch Number :15\n",
            "\u001b[1m[Avg Loss for the Epoch NO.: 15, Loss: 0.050]\n",
            "\n",
            "\n",
            "\u001b[1mPerformance Statistics for Epoch Number :16\n",
            "\u001b[1m[Avg Loss for the Epoch NO.: 16, Loss: 0.046]\n",
            "\n",
            "\n",
            "\u001b[1mPerformance Statistics for Epoch Number :17\n",
            "\u001b[1m[Avg Loss for the Epoch NO.: 17, Loss: 0.041]\n",
            "\n",
            "\n",
            "\u001b[1mPerformance Statistics for Epoch Number :18\n",
            "\u001b[1m[Avg Loss for the Epoch NO.: 18, Loss: 0.040]\n",
            "\n",
            "\n",
            "\u001b[1mPerformance Statistics for Epoch Number :19\n",
            "\u001b[1m[Avg Loss for the Epoch NO.: 19, Loss: 0.045]\n",
            "\n",
            "\n",
            "\u001b[1mPerformance Statistics for Epoch Number :20\n",
            "\u001b[1m[Avg Loss for the Epoch NO.: 20, Loss: 0.026]\n",
            "\n",
            "\n",
            "\u001b[1mPerformance Statistics for Epoch Number :21\n",
            "\u001b[1m[Avg Loss for the Epoch NO.: 21, Loss: 0.032]\n",
            "\n",
            "\n",
            "\u001b[1mPerformance Statistics for Epoch Number :22\n",
            "\u001b[1m[Avg Loss for the Epoch NO.: 22, Loss: 0.028]\n",
            "\n",
            "\n",
            "\u001b[1mPerformance Statistics for Epoch Number :23\n",
            "\u001b[1m[Avg Loss for the Epoch NO.: 23, Loss: 0.021]\n",
            "\n",
            "\n",
            "\u001b[1mPerformance Statistics for Epoch Number :24\n",
            "\u001b[1m[Avg Loss for the Epoch NO.: 24, Loss: 0.021]\n",
            "\n",
            "\n",
            "\u001b[1mPerformance Statistics for Epoch Number :25\n",
            "\u001b[1m[Avg Loss for the Epoch NO.: 25, Loss: 0.031]\n",
            "\n",
            "\n",
            "Finished Training\n",
            "\u001b[1mTime Taken to Train the Model: --- 2.2 mins ---\n"
          ],
          "name": "stdout"
        }
      ]
    },
    {
      "cell_type": "code",
      "metadata": {
        "id": "QzEXTyVu2WkE",
        "colab_type": "code",
        "outputId": "ba218dd8-be0f-4e2d-e105-55373d8dae44",
        "colab": {
          "base_uri": "https://localhost:8080/",
          "height": 300
        }
      },
      "source": [
        "# plotting the training loss\n",
        "plt.plot(train_losses, label='Training loss')\n",
        "plt.title('Loss on the Alex Training Set on Successive Epochs',size= 13)\n",
        "plt.legend()\n",
        "plt.xlabel('Epochs',size= 15)\n",
        "plt.ylabel('Loss',size=15)\n",
        "plt.show()\n"
      ],
      "execution_count": 0,
      "outputs": [
        {
          "output_type": "display_data",
          "data": {
            "image/png": "[encoded data removed]",
            "text/plain": [
              "<Figure size 432x288 with 1 Axes>"
            ]
          },
          "metadata": {
            "tags": []
          }
        }
      ]
    },
    {
      "cell_type": "code",
      "metadata": {
        "id": "XMtqvpQf2Wna",
        "colab_type": "code",
        "outputId": "1c2e2618-8e16-4257-dfeb-6c9bec8d5060",
        "colab": {
          "base_uri": "https://localhost:8080/",
          "height": 51
        }
      },
      "source": [
        "# ==========================================\n",
        "#            Evaluating Network\n",
        "# ==========================================\n",
        "\n",
        "def test_model(test_data,model_version):\n",
        "    start_time = time.time()\n",
        "    # prediction and Accuracy for Test set\n",
        "    correct = 0\n",
        "    total = 0\n",
        "    model_version.eval()            \n",
        "    for batch_num, data in enumerate(test_data, 0):\n",
        "        x_test, y_test = data\n",
        "        x_test = x_test.float()\n",
        "\n",
        "        if torch.cuda.is_available():\n",
        "            x_test = x_test.cuda()\n",
        "            y_test = y_test.cuda()\n",
        "\n",
        "        y_pred = model_version(x_test.cuda())\n",
        "        _, predicted = torch.max(y_pred.data, 1)\n",
        "        total += y_test.size(0)\n",
        "        correct += (predicted == y_test).sum().item()\n",
        "\n",
        "    print('\\033[1m' + 'Accuracy of the network by tuning the Alex Network on the test images: %d %%' % (100 * correct / total))\n",
        "    print('\\033[1m' + 'Time Taken for Evaluating Model on Test: ' + '--- %s seconds ---' % round((time.time() - start_time),2))\n",
        "\n",
        "test_model(testloader_large,model_ft)"
      ],
      "execution_count": 0,
      "outputs": [
        {
          "output_type": "stream",
          "text": [
            "\u001b[1mAccuracy of the network by tuning the Alex Network on the test images: 80 %\n",
            "\u001b[1mTime Taken for Evaluating Model on Test: --- 0.36 seconds ---\n"
          ],
          "name": "stdout"
        }
      ]
    },
    {
      "cell_type": "markdown",
      "metadata": {
        "id": "Zxl4LD-ff3Kn",
        "colab_type": "text"
      },
      "source": [
        "**Strategy A: Extracting Features from the Activation functions of the 2nd last Layer of the Alex Net and using SVM Classiffier**"
      ]
    },
    {
      "cell_type": "code",
      "metadata": {
        "id": "E6O3JXOFcSsJ",
        "colab_type": "code",
        "outputId": "3c6f0baa-9920-4e5b-c34b-809e6933344e",
        "colab": {
          "base_uri": "https://localhost:8080/",
          "height": 459
        }
      },
      "source": [
        "model_feat = models.alexnet(pretrained=True)\n",
        "## Removing the last layer and using the 2nd last layer activation functions output as feature vector for SVM Classifier\n",
        "for param in model_feat.parameters():\n",
        "    param.requires_grad = False\n",
        "\n",
        "new_classifier = nn.Sequential(*list(model_feat.classifier.children())[:-1])\n",
        "model_feat.classifier = new_classifier\n",
        "print(model_feat)\n"
      ],
      "execution_count": 0,
      "outputs": [
        {
          "output_type": "stream",
          "text": [
            "AlexNet(\n",
            "  (features): Sequential(\n",
            "    (0): Conv2d(3, 64, kernel_size=(11, 11), stride=(4, 4), padding=(2, 2))\n",
            "    (1): ReLU(inplace=True)\n",
            "    (2): MaxPool2d(kernel_size=3, stride=2, padding=0, dilation=1, ceil_mode=False)\n",
            "    (3): Conv2d(64, 192, kernel_size=(5, 5), stride=(1, 1), padding=(2, 2))\n",
            "    (4): ReLU(inplace=True)\n",
            "    (5): MaxPool2d(kernel_size=3, stride=2, padding=0, dilation=1, ceil_mode=False)\n",
            "    (6): Conv2d(192, 384, kernel_size=(3, 3), stride=(1, 1), padding=(1, 1))\n",
            "    (7): ReLU(inplace=True)\n",
            "    (8): Conv2d(384, 256, kernel_size=(3, 3), stride=(1, 1), padding=(1, 1))\n",
            "    (9): ReLU(inplace=True)\n",
            "    (10): Conv2d(256, 256, kernel_size=(3, 3), stride=(1, 1), padding=(1, 1))\n",
            "    (11): ReLU(inplace=True)\n",
            "    (12): MaxPool2d(kernel_size=3, stride=2, padding=0, dilation=1, ceil_mode=False)\n",
            "  )\n",
            "  (avgpool): AdaptiveAvgPool2d(output_size=(6, 6))\n",
            "  (classifier): Sequential(\n",
            "    (0): Dropout(p=0.5, inplace=False)\n",
            "    (1): Linear(in_features=9216, out_features=4096, bias=True)\n",
            "    (2): ReLU(inplace=True)\n",
            "    (3): Dropout(p=0.5, inplace=False)\n",
            "    (4): Linear(in_features=4096, out_features=4096, bias=True)\n",
            "    (5): ReLU(inplace=True)\n",
            "  )\n",
            ")\n"
          ],
          "name": "stdout"
        }
      ]
    },
    {
      "cell_type": "code",
      "metadata": {
        "id": "-lYu9G4p4Fbd",
        "colab_type": "code",
        "colab": {}
      },
      "source": [
        "## Defining Features Extraction Method\n",
        "\n",
        "def alex_feat(model,data):\n",
        "      model = model.cuda()\n",
        "      start_time = time.time()\n",
        "      feat_size= model.classifier[4].in_features\n",
        "      alex_features = np.empty((0, feat_size))\n",
        "      feat_labels=np.zeros((0,1))\n",
        "      \n",
        "      for batch_num, batch_data in enumerate(data, 0):\n",
        "            x_train, y_train = batch_data   \n",
        "            x_train = x_train.float()\n",
        "            y_train= np.reshape(y_train,(y_train.shape[0],1))\n",
        "            y_train= y_train.numpy()\n",
        "\n",
        "            x_train = x_train.cuda()\n",
        "            features = model(x_train).cpu().data.numpy()\n",
        "            features=features[:,:feat_size]\n",
        "            alex_features= np.append(alex_features, features, axis=0)\n",
        "            feat_labels=np.vstack((feat_labels,y_train))\n",
        "      \n",
        "      print('\\033[1m' + 'Time Taken for Extracting Features: ' + '--- %s seconds ---' % round((time.time() - start_time),2))\n",
        "      return np.asarray(alex_features.astype('float32')), np.asarray(feat_labels.astype('float32'))\n"
      ],
      "execution_count": 0,
      "outputs": []
    },
    {
      "cell_type": "code",
      "metadata": {
        "id": "Kwmh_J9enGWt",
        "colab_type": "code",
        "outputId": "51c44c90-5b82-45a1-a6e8-ae302eb24333",
        "colab": {
          "base_uri": "https://localhost:8080/",
          "height": 153
        }
      },
      "source": [
        "x_train,y_train= alex_feat(model_feat,trainloader_large)\n",
        "print('\\033[1m' + 'Shape of the Training Feature Vector: ' + str(x_train.shape))\n",
        "print('\\033[1m' + 'Shape of the Training Label Vector: ' + str(y_train.shape))\n",
        "print('\\n')\n",
        "x_test,y_test=  alex_feat(model_feat,testloader_large)\n",
        "print('\\033[1m' + 'Shape of the Test Feature Vector: ' + str(x_test.shape))\n",
        "print('\\033[1m' + 'Shape of the Test Label Vector: ' + str(y_test.shape))\n"
      ],
      "execution_count": 0,
      "outputs": [
        {
          "output_type": "stream",
          "text": [
            "\u001b[1mTime Taken for Extracting Features: --- 2.55 seconds ---\n",
            "\u001b[1mShape of the Training Feature Vector: (2400, 4096)\n",
            "\u001b[1mShape of the Training Label Vector: (2400, 1)\n",
            "\n",
            "\n",
            "\u001b[1mTime Taken for Extracting Features: --- 0.34 seconds ---\n",
            "\u001b[1mShape of the Test Feature Vector: (400, 4096)\n",
            "\u001b[1mShape of the Test Label Vector: (400, 1)\n"
          ],
          "name": "stdout"
        }
      ]
    },
    {
      "cell_type": "markdown",
      "metadata": {
        "id": "adV3Tk6Mt3fF",
        "colab_type": "text"
      },
      "source": [
        "**Training the SVM Classifier and Model Accuracy**"
      ]
    },
    {
      "cell_type": "code",
      "metadata": {
        "id": "89fFm1zlm0V6",
        "colab_type": "code",
        "outputId": "f645eafe-db9c-4125-d322-c8f1d11c9df7",
        "colab": {
          "base_uri": "https://localhost:8080/",
          "height": 51
        }
      },
      "source": [
        "# training a linear SVM classifier \n",
        "start_time = time.time()\n",
        "from sklearn import svm\n",
        "from sklearn.svm import LinearSVC\n",
        "from sklearn.svm import SVC \n",
        "from sklearn.metrics import accuracy_score\n",
        "\n",
        "svm_model_linear = svm.LinearSVC(random_state=0,tol=1e-5,C=1,max_iter= 5000)\n",
        "svm_model_linear.fit(x_train, y_train.ravel())\n",
        "\n",
        "test_predictions = svm_model_linear.predict(x_test) \n",
        "accuracy= accuracy_score(y_test, test_predictions)\n",
        "\n",
        "print ('\\033[1m' + 'Accuracy Observed with SVM Classifier  = ' + str(accuracy*100 ) + '%')\n",
        "print('\\033[1m' + 'Time Taken for Classification: ' + '--- %s seconds ---' % round((time.time() - start_time),2))\n"
      ],
      "execution_count": 0,
      "outputs": [
        {
          "output_type": "stream",
          "text": [
            "\u001b[1mAccuracy Observed with SVM Classifier  = 78.5%\n",
            "\u001b[1mTime Taken for Classification: --- 2.88 seconds ---\n"
          ],
          "name": "stdout"
        }
      ]
    },
    {
      "cell_type": "markdown",
      "metadata": {
        "id": "a4wpZfsSbI3Z",
        "colab_type": "text"
      },
      "source": [
        "### **Accuracy observed by using 2nd Last Layer Acitvation Functions as our feature vector for the classifier SVM gives a highly improved accuracy of 78.5% compared to the previous Bag of Sift descriptors approach**"
      ]
    },
    {
      "cell_type": "markdown",
      "metadata": {
        "id": "pKGQ7EYQ0RlD",
        "colab_type": "text"
      },
      "source": [
        "**Bonus: Fine Tuning VGG Network**"
      ]
    },
    {
      "cell_type": "code",
      "metadata": {
        "id": "jWUn6vqx4Fww",
        "colab_type": "code",
        "outputId": "a53733fe-fe80-41bf-c1f9-dbf8345627c5",
        "colab": {
          "base_uri": "https://localhost:8080/",
          "height": 782
        }
      },
      "source": [
        "# ==========================================\n",
        "#       Fine-Tune Pretrained Alex Network\n",
        "# ==========================================\n",
        "num_classes=16\n",
        "\n",
        "import torchvision.models as models\n",
        "\n",
        "##Initialising the Model for the Alex Net for fine tuning with the ouput Layer to 16 classess\n",
        "\n",
        "def initialize_model(num_classes, use_pretrained=True):\n",
        "    model_ft = None\n",
        "    input_size = 0\n",
        "    model_ft = models.vgg16(pretrained=use_pretrained)\n",
        "    num_ftrs = model_ft.classifier[6].in_features\n",
        "    model_ft.classifier[6] = nn.Linear(num_ftrs,num_classes) \n",
        "    \n",
        "    return model_ft\n",
        "\n",
        "# Initialize the model\n",
        "model_vgg = initialize_model(num_classes, use_pretrained=True)\n",
        "print(model_vgg)\n"
      ],
      "execution_count": 0,
      "outputs": [
        {
          "output_type": "stream",
          "text": [
            "VGG(\n",
            "  (features): Sequential(\n",
            "    (0): Conv2d(3, 64, kernel_size=(3, 3), stride=(1, 1), padding=(1, 1))\n",
            "    (1): ReLU(inplace=True)\n",
            "    (2): Conv2d(64, 64, kernel_size=(3, 3), stride=(1, 1), padding=(1, 1))\n",
            "    (3): ReLU(inplace=True)\n",
            "    (4): MaxPool2d(kernel_size=2, stride=2, padding=0, dilation=1, ceil_mode=False)\n",
            "    (5): Conv2d(64, 128, kernel_size=(3, 3), stride=(1, 1), padding=(1, 1))\n",
            "    (6): ReLU(inplace=True)\n",
            "    (7): Conv2d(128, 128, kernel_size=(3, 3), stride=(1, 1), padding=(1, 1))\n",
            "    (8): ReLU(inplace=True)\n",
            "    (9): MaxPool2d(kernel_size=2, stride=2, padding=0, dilation=1, ceil_mode=False)\n",
            "    (10): Conv2d(128, 256, kernel_size=(3, 3), stride=(1, 1), padding=(1, 1))\n",
            "    (11): ReLU(inplace=True)\n",
            "    (12): Conv2d(256, 256, kernel_size=(3, 3), stride=(1, 1), padding=(1, 1))\n",
            "    (13): ReLU(inplace=True)\n",
            "    (14): Conv2d(256, 256, kernel_size=(3, 3), stride=(1, 1), padding=(1, 1))\n",
            "    (15): ReLU(inplace=True)\n",
            "    (16): MaxPool2d(kernel_size=2, stride=2, padding=0, dilation=1, ceil_mode=False)\n",
            "    (17): Conv2d(256, 512, kernel_size=(3, 3), stride=(1, 1), padding=(1, 1))\n",
            "    (18): ReLU(inplace=True)\n",
            "    (19): Conv2d(512, 512, kernel_size=(3, 3), stride=(1, 1), padding=(1, 1))\n",
            "    (20): ReLU(inplace=True)\n",
            "    (21): Conv2d(512, 512, kernel_size=(3, 3), stride=(1, 1), padding=(1, 1))\n",
            "    (22): ReLU(inplace=True)\n",
            "    (23): MaxPool2d(kernel_size=2, stride=2, padding=0, dilation=1, ceil_mode=False)\n",
            "    (24): Conv2d(512, 512, kernel_size=(3, 3), stride=(1, 1), padding=(1, 1))\n",
            "    (25): ReLU(inplace=True)\n",
            "    (26): Conv2d(512, 512, kernel_size=(3, 3), stride=(1, 1), padding=(1, 1))\n",
            "    (27): ReLU(inplace=True)\n",
            "    (28): Conv2d(512, 512, kernel_size=(3, 3), stride=(1, 1), padding=(1, 1))\n",
            "    (29): ReLU(inplace=True)\n",
            "    (30): MaxPool2d(kernel_size=2, stride=2, padding=0, dilation=1, ceil_mode=False)\n",
            "  )\n",
            "  (avgpool): AdaptiveAvgPool2d(output_size=(7, 7))\n",
            "  (classifier): Sequential(\n",
            "    (0): Linear(in_features=25088, out_features=4096, bias=True)\n",
            "    (1): ReLU(inplace=True)\n",
            "    (2): Dropout(p=0.5, inplace=False)\n",
            "    (3): Linear(in_features=4096, out_features=4096, bias=True)\n",
            "    (4): ReLU(inplace=True)\n",
            "    (5): Dropout(p=0.5, inplace=False)\n",
            "    (6): Linear(in_features=4096, out_features=16, bias=True)\n",
            "  )\n",
            ")\n"
          ],
          "name": "stdout"
        }
      ]
    },
    {
      "cell_type": "code",
      "metadata": {
        "id": "Ohc8VpWt0QHu",
        "colab_type": "code",
        "colab": {}
      },
      "source": [
        "#checking if GPU is available\n",
        "if torch.cuda.is_available():\n",
        "    model_vgg = model_vgg.cuda()"
      ],
      "execution_count": 0,
      "outputs": []
    },
    {
      "cell_type": "code",
      "metadata": {
        "id": "gfa64AKB0QOE",
        "colab_type": "code",
        "outputId": "03b9fa99-2a86-48eb-b0a9-899a2b20e717",
        "colab": {
          "base_uri": "https://localhost:8080/",
          "height": 578
        }
      },
      "source": [
        "feature_extract= False\n",
        "params_to_update = model_vgg.parameters()\n",
        "print(\"Params to learn:\")\n",
        "\n",
        "for name,param in model_vgg.named_parameters():\n",
        "    if param.requires_grad == True:\n",
        "        print(\"\\t\",name)\n",
        "\n",
        "# All parameters are being optimized\n",
        "optimizer_ft = optim.SGD(params_to_update, lr=0.001, momentum= 0.9)\n",
        "exp_lr_scheduler= optim.lr_scheduler.StepLR(optimizer_ft,step_size=7,gamma= 0.1)\n",
        "\n",
        "criterion = nn.CrossEntropyLoss()\n"
      ],
      "execution_count": 0,
      "outputs": [
        {
          "output_type": "stream",
          "text": [
            "Params to learn:\n",
            "\t features.0.weight\n",
            "\t features.0.bias\n",
            "\t features.2.weight\n",
            "\t features.2.bias\n",
            "\t features.5.weight\n",
            "\t features.5.bias\n",
            "\t features.7.weight\n",
            "\t features.7.bias\n",
            "\t features.10.weight\n",
            "\t features.10.bias\n",
            "\t features.12.weight\n",
            "\t features.12.bias\n",
            "\t features.14.weight\n",
            "\t features.14.bias\n",
            "\t features.17.weight\n",
            "\t features.17.bias\n",
            "\t features.19.weight\n",
            "\t features.19.bias\n",
            "\t features.21.weight\n",
            "\t features.21.bias\n",
            "\t features.24.weight\n",
            "\t features.24.bias\n",
            "\t features.26.weight\n",
            "\t features.26.bias\n",
            "\t features.28.weight\n",
            "\t features.28.bias\n",
            "\t classifier.0.weight\n",
            "\t classifier.0.bias\n",
            "\t classifier.3.weight\n",
            "\t classifier.3.bias\n",
            "\t classifier.6.weight\n",
            "\t classifier.6.bias\n"
          ],
          "name": "stdout"
        }
      ]
    },
    {
      "cell_type": "code",
      "metadata": {
        "id": "bGfy7Wpn0QXP",
        "colab_type": "code",
        "outputId": "4f602ad8-8855-4f63-ca1d-9e55d33d1efb",
        "colab": {
          "base_uri": "https://localhost:8080/",
          "height": 1000
        }
      },
      "source": [
        "##Training the Method1 Model\n",
        "start_time = time.time()\n",
        "n_epochs = 20\n",
        "train_losses=[]\n",
        "\n",
        "for epoch in range(n_epochs):\n",
        "    model_vgg.train()\n",
        "    print('\\033[1m' + 'Performance Statistics for Epoch Number :' + str(epoch + 1))\n",
        "    train_running_loss = 0.0\n",
        "    train_total_loss= 0.0\n",
        "    for batch_num, data in enumerate(trainloader_large, 0):\n",
        "        # getting the inputs; data is a tensor tuple list of [inputs, labels]\n",
        "        x_train, y_train = data   \n",
        "        x_train = x_train.float() \n",
        "\n",
        "        # converting the data into GPU format\n",
        "        if torch.cuda.is_available():\n",
        "            x_train = x_train.cuda()\n",
        "            y_train = y_train.cuda()\n",
        "\n",
        "        optimizer_ft.zero_grad()\n",
        "        output_train = model_vgg(x_train)\n",
        "        loss_train = criterion(output_train, y_train)\n",
        "        loss_train.backward()\n",
        "        optimizer_ft.step()\n",
        "\n",
        "        # print statistics\n",
        "        train_running_loss += loss_train.item()\n",
        "        train_total_loss += loss_train.item()\n",
        "\n",
        "        if batch_num % 20 == 19:    # print every 20 mini-batches\n",
        "            print('\\033[1m' + '[Batch NO.: %d, Mini Batch: %5d] loss: %.3f' %\n",
        "                  (epoch + 1, batch_num + 1, train_running_loss / 20))\n",
        "            train_running_loss = 0.0\n",
        "    train_losses.append(train_total_loss/(batch_num + 1))\n",
        "    \n",
        "    print('\\033[1m' + '[Avg Loss for the Epoch NO.: %d, Loss: %.3f]' % (epoch + 1, train_total_loss/(batch_num + 1)))\n",
        "    print('\\n')\n",
        "\n",
        "print('Finished Training')\n",
        "print('\\033[1m' + 'Time Taken to Train the Model: ' + '--- %s mins ---' % round((time.time() - start_time)/60,2))\n"
      ],
      "execution_count": 0,
      "outputs": [
        {
          "output_type": "stream",
          "text": [
            "\u001b[1mPerformance Statistics for Epoch Number :1\n",
            "\u001b[1m[Batch NO.: 1, Mini Batch:    20] loss: 2.572\n",
            "\u001b[1m[Batch NO.: 1, Mini Batch:    40] loss: 1.660\n",
            "\u001b[1m[Avg Loss for the Epoch NO.: 1, Loss: 1.970]\n",
            "\n",
            "\n",
            "\u001b[1mPerformance Statistics for Epoch Number :2\n",
            "\u001b[1m[Batch NO.: 2, Mini Batch:    20] loss: 1.115\n",
            "\u001b[1m[Batch NO.: 2, Mini Batch:    40] loss: 0.919\n",
            "\u001b[1m[Avg Loss for the Epoch NO.: 2, Loss: 0.983]\n",
            "\n",
            "\n",
            "\u001b[1mPerformance Statistics for Epoch Number :3\n",
            "\u001b[1m[Batch NO.: 3, Mini Batch:    20] loss: 0.818\n",
            "\u001b[1m[Batch NO.: 3, Mini Batch:    40] loss: 0.701\n",
            "\u001b[1m[Avg Loss for the Epoch NO.: 3, Loss: 0.734]\n",
            "\n",
            "\n",
            "\u001b[1mPerformance Statistics for Epoch Number :4\n",
            "\u001b[1m[Batch NO.: 4, Mini Batch:    20] loss: 0.660\n",
            "\u001b[1m[Batch NO.: 4, Mini Batch:    40] loss: 0.674\n",
            "\u001b[1m[Avg Loss for the Epoch NO.: 4, Loss: 0.647]\n",
            "\n",
            "\n",
            "\u001b[1mPerformance Statistics for Epoch Number :5\n",
            "\u001b[1m[Batch NO.: 5, Mini Batch:    20] loss: 0.475\n",
            "\u001b[1m[Batch NO.: 5, Mini Batch:    40] loss: 0.508\n",
            "\u001b[1m[Avg Loss for the Epoch NO.: 5, Loss: 0.488]\n",
            "\n",
            "\n",
            "\u001b[1mPerformance Statistics for Epoch Number :6\n",
            "\u001b[1m[Batch NO.: 6, Mini Batch:    20] loss: 0.417\n",
            "\u001b[1m[Batch NO.: 6, Mini Batch:    40] loss: 0.389\n",
            "\u001b[1m[Avg Loss for the Epoch NO.: 6, Loss: 0.406]\n",
            "\n",
            "\n",
            "\u001b[1mPerformance Statistics for Epoch Number :7\n",
            "\u001b[1m[Batch NO.: 7, Mini Batch:    20] loss: 0.304\n",
            "\u001b[1m[Batch NO.: 7, Mini Batch:    40] loss: 0.320\n",
            "\u001b[1m[Avg Loss for the Epoch NO.: 7, Loss: 0.308]\n",
            "\n",
            "\n",
            "\u001b[1mPerformance Statistics for Epoch Number :8\n",
            "\u001b[1m[Batch NO.: 8, Mini Batch:    20] loss: 0.194\n",
            "\u001b[1m[Batch NO.: 8, Mini Batch:    40] loss: 0.218\n",
            "\u001b[1m[Avg Loss for the Epoch NO.: 8, Loss: 0.197]\n",
            "\n",
            "\n",
            "\u001b[1mPerformance Statistics for Epoch Number :9\n",
            "\u001b[1m[Batch NO.: 9, Mini Batch:    20] loss: 0.181\n",
            "\u001b[1m[Batch NO.: 9, Mini Batch:    40] loss: 0.210\n",
            "\u001b[1m[Avg Loss for the Epoch NO.: 9, Loss: 0.187]\n",
            "\n",
            "\n",
            "\u001b[1mPerformance Statistics for Epoch Number :10\n",
            "\u001b[1m[Batch NO.: 10, Mini Batch:    20] loss: 0.164\n",
            "\u001b[1m[Batch NO.: 10, Mini Batch:    40] loss: 0.146\n",
            "\u001b[1m[Avg Loss for the Epoch NO.: 10, Loss: 0.150]\n",
            "\n",
            "\n",
            "\u001b[1mPerformance Statistics for Epoch Number :11\n",
            "\u001b[1m[Batch NO.: 11, Mini Batch:    20] loss: 0.108\n",
            "\u001b[1m[Batch NO.: 11, Mini Batch:    40] loss: 0.091\n",
            "\u001b[1m[Avg Loss for the Epoch NO.: 11, Loss: 0.096]\n",
            "\n",
            "\n",
            "\u001b[1mPerformance Statistics for Epoch Number :12\n",
            "\u001b[1m[Batch NO.: 12, Mini Batch:    20] loss: 0.101\n",
            "\u001b[1m[Batch NO.: 12, Mini Batch:    40] loss: 0.119\n",
            "\u001b[1m[Avg Loss for the Epoch NO.: 12, Loss: 0.104]\n",
            "\n",
            "\n",
            "\u001b[1mPerformance Statistics for Epoch Number :13\n",
            "\u001b[1m[Batch NO.: 13, Mini Batch:    20] loss: 0.099\n",
            "\u001b[1m[Batch NO.: 13, Mini Batch:    40] loss: 0.071\n",
            "\u001b[1m[Avg Loss for the Epoch NO.: 13, Loss: 0.080]\n",
            "\n",
            "\n",
            "\u001b[1mPerformance Statistics for Epoch Number :14\n",
            "\u001b[1m[Batch NO.: 14, Mini Batch:    20] loss: 0.070\n",
            "\u001b[1m[Batch NO.: 14, Mini Batch:    40] loss: 0.069\n",
            "\u001b[1m[Avg Loss for the Epoch NO.: 14, Loss: 0.067]\n",
            "\n",
            "\n",
            "\u001b[1mPerformance Statistics for Epoch Number :15\n",
            "\u001b[1m[Batch NO.: 15, Mini Batch:    20] loss: 0.075\n",
            "\u001b[1m[Batch NO.: 15, Mini Batch:    40] loss: 0.058\n",
            "\u001b[1m[Avg Loss for the Epoch NO.: 15, Loss: 0.066]\n",
            "\n",
            "\n",
            "\u001b[1mPerformance Statistics for Epoch Number :16\n",
            "\u001b[1m[Batch NO.: 16, Mini Batch:    20] loss: 0.053\n",
            "\u001b[1m[Batch NO.: 16, Mini Batch:    40] loss: 0.028\n",
            "\u001b[1m[Avg Loss for the Epoch NO.: 16, Loss: 0.043]\n",
            "\n",
            "\n",
            "\u001b[1mPerformance Statistics for Epoch Number :17\n",
            "\u001b[1m[Batch NO.: 17, Mini Batch:    20] loss: 0.030\n",
            "\u001b[1m[Batch NO.: 17, Mini Batch:    40] loss: 0.041\n",
            "\u001b[1m[Avg Loss for the Epoch NO.: 17, Loss: 0.037]\n",
            "\n",
            "\n",
            "\u001b[1mPerformance Statistics for Epoch Number :18\n",
            "\u001b[1m[Batch NO.: 18, Mini Batch:    20] loss: 0.022\n",
            "\u001b[1m[Batch NO.: 18, Mini Batch:    40] loss: 0.024\n",
            "\u001b[1m[Avg Loss for the Epoch NO.: 18, Loss: 0.022]\n",
            "\n",
            "\n",
            "\u001b[1mPerformance Statistics for Epoch Number :19\n",
            "\u001b[1m[Batch NO.: 19, Mini Batch:    20] loss: 0.033\n",
            "\u001b[1m[Batch NO.: 19, Mini Batch:    40] loss: 0.022\n",
            "\u001b[1m[Avg Loss for the Epoch NO.: 19, Loss: 0.025]\n",
            "\n",
            "\n",
            "\u001b[1mPerformance Statistics for Epoch Number :20\n",
            "\u001b[1m[Batch NO.: 20, Mini Batch:    20] loss: 0.019\n",
            "\u001b[1m[Batch NO.: 20, Mini Batch:    40] loss: 0.020\n",
            "\u001b[1m[Avg Loss for the Epoch NO.: 20, Loss: 0.022]\n",
            "\n",
            "\n",
            "Finished Training\n",
            "\u001b[1mTime Taken to Train the Model: --- 24.6 mins ---\n"
          ],
          "name": "stdout"
        }
      ]
    },
    {
      "cell_type": "code",
      "metadata": {
        "id": "iuWJNLT6cS2P",
        "colab_type": "code",
        "outputId": "a5fc02e9-8bbc-4079-dee5-3406ed39cdf0",
        "colab": {
          "base_uri": "https://localhost:8080/",
          "height": 51
        }
      },
      "source": [
        "# ==========================================\n",
        "#            Evaluating Network\n",
        "# ==========================================\n",
        "\n",
        "def test_model(test_data,model_version):\n",
        "    start_time = time.time()\n",
        "    # prediction and Accuracy for Test set\n",
        "    correct = 0\n",
        "    total = 0\n",
        "    model_version.eval()            \n",
        "    for batch_num, data in enumerate(test_data, 0):\n",
        "        x_test, y_test = data\n",
        "        x_test = x_test.float()\n",
        "\n",
        "        if torch.cuda.is_available():\n",
        "            x_test = x_test.cuda()\n",
        "            y_test = y_test.cuda()\n",
        "\n",
        "        y_pred = model_version(x_test.cuda())\n",
        "        _, predicted = torch.max(y_pred.data, 1)\n",
        "        total += y_test.size(0)\n",
        "        correct += (predicted == y_test).sum().item()\n",
        "\n",
        "    print('\\033[1m' + 'Accuracy of the network by tuning the VGG Network on the test images: %d %%' % ( 100 * correct / total))\n",
        "    print('\\033[1m' + 'Time Taken for Evaluating Model on Test: ' + '--- %s seconds ---' % round((time.time() - start_time),2))\n",
        "\n",
        "test_model(testloader_large,model_vgg)"
      ],
      "execution_count": 0,
      "outputs": [
        {
          "output_type": "stream",
          "text": [
            "\u001b[1mAccuracy of the network by tuning the VGG Network on the test images: 84 %\n",
            "\u001b[1mTime Taken for Evaluating Model on Test: --- 4.87 seconds ---\n"
          ],
          "name": "stdout"
        }
      ]
    },
    {
      "cell_type": "markdown",
      "metadata": {
        "id": "b_ddW_ySaeJD",
        "colab_type": "text"
      },
      "source": [
        "### **Tuning the Network with Alex Net increases our accuracy by 4-5%**"
      ]
    },
    {
      "cell_type": "markdown",
      "metadata": {
        "id": "dGtsvniWwMnk",
        "colab_type": "text"
      },
      "source": [
        "### ***Complete Report for the Question 2:***\n",
        "\n",
        "**Part1 : Implementing Startegy B --> Fine tuning Alex Net**\n",
        "\n",
        ">  Changing the Number of output features in the final layer of the classifier to 16: Linear(in_features=4096, out_features=16, bias=True)\n",
        "*   Time taken for training the New Alex Net with our Training data set= 2.2mins and time taken for evaluating the model on test data 0.36secs\n",
        "*   **Accuracy Observed = 80%**\n",
        "\n",
        "**Part2 : Implementing Startegy A --> Using Activation Functions of 2nd Last Layer as feature vector and training SVM Classifier**\n",
        "\n",
        ">  Extracting Features from the Activation functions of the 2nd last Layer of the Alex Net and using SVM Classiffier\n",
        "*  Linear(in_features=4096, out_features=4096, bias=True), ReLU(inplace=True)\n",
        "*   Time taken for extracting the training features form the Alex penultimate layer= 2.55secs and time taken for extracting the test features = 0.34secs\n",
        "*  Time taken for SVM classification = 2.88secs\n",
        "*   **Accuracy Observed = 78.5%, highly improved accuracy comapred with Bag of SIFT descriptors approach in previous assignemnt**\n",
        "\n",
        "**Part3 : Bonus --> Fine tuning VGG Net**\n",
        "\n",
        ">  Fine tuning the last yaer of the VGG16 net, Changing the Number of output features in the final layer of the classifier to 16\n",
        "* Linear(in_features=4096, out_features=16, bias=True)\n",
        "*   Time taken for training the New VGG Net with our Training data set= 24.6mins and time taken for evaluating the model on test data 4.87secs\n",
        "*   **Accuracy Observed = 84%, improves our accuracy slighlty with VGG Net**\n"
      ]
    },
    {
      "cell_type": "markdown",
      "metadata": {
        "id": "5UGefIYpYYNF",
        "colab_type": "text"
      },
      "source": [
        "## Submission guidelines\n",
        "---\n",
        "Extract the downloaded .zip file to a folder of your preference. The input and output paths are predefined and **DO NOT** change them, (we assume that 'Surname_Givenname_SBUID_hw4' is your working directory, and all the paths are relative to this directory).  The image read and write functions are already written for you. All you need to do is to fill in the blanks as indicated to generate proper outputs. **DO NOT** zip and upload the dataset on blackboard due to size limit.\n",
        "\n",
        "When submitting your .zip file through blackboard, please\n",
        "-- name your .zip file as **Surname_Givenname_SBUID_hw*.zip**.\n",
        "\n",
        "This zip file should include:\n",
        "```\n",
        "Surname_Givenname_SBUID_hw*\n",
        "        |---Surname_Givenname_SBUID_hw*.ipynb\n",
        "        |---Surname_Givenname_SBUID_hw*.py\n",
        "        |---Surname_Givenname_SBUID_hw*.pdf\n",
        "```\n",
        "where Surname_Givenname_SBUID_hw*.py is the Python code of Surname_Givenname_SBUID_hw*.ipynb, which can be dowloaded by File->Download .py.\n",
        "\n",
        "For instance, student Michael Jordan should submit a zip file named \"Jordan_Michael_111134567_hw4.zip\" for homework4 in this structure:\n",
        "```\n",
        "Jordan_Michael_111134567_hw4\n",
        "        |---Jordan_Michael_111134567_hw4.ipynb\n",
        "        |---Jordan_Michael_111134567_hw4.py\n",
        "        |---Jordan_Michael_111134567_hw4.pdf\n",
        "```\n",
        "\n",
        "The **Surname_Givenname_SBUID_hw*.pdf** should include a **google shared link** and **Surname_Givenname_SBUID_Pred*.pdf** should be your test set prediction file in the specified format. To generate the **google shared link**, first create a folder named **Surname_Givenname_SBUID_hw*** in your Google Drive with your Stony Brook account. The structure of the files in the folder should be exactly the same as the one you downloaded. If you alter the folder structures, the grading of your homework will be significantly delayed and possibly penalized.\n",
        "\n",
        "Then right click this folder, click ***Get shareable link***, in the People textfield, enter two TA's emails: ***bo.cao.1@stonybrook.edu*** and ***sayontan.ghosh@stonybrook.edu***. Make sure that TAs who have the link **can edit**, ***not just*** **can view**, and also **uncheck** the **Notify people** box.\n",
        "\n",
        "Colab has a good feature of version control, you should take advantage of this to save your work properly. However, the timestamp of the submission made in blackboard is the only one that we consider for grading. To be more specific, we will only grade the version of your code right before the timestamp of the submission made in blackboard. \n",
        "\n",
        "You are encouraged to post and answer questions on Piazza. Based on the amount of email that we have received in past years, there might be dealys in replying to personal emails. Please ask questions on Piazza and send emails only for personal issues.\n",
        "\n",
        "Be aware that your code will undergo plagiarism check both vertically and horizontally. Please do your own work.\n",
        "\n",
        "**Late submission penalty:** <br>\n",
        "There will be a 10% penalty per day for late submission. However, you will have 4 days throughout the whole semester to submit late without penalty. Note that the grace period is calculated by days instead of hours. If you submit the homework one minute after the deadline, one late day will be counted. Likewise, if you submit one minute after the deadline, the 10% penaly will be imposed if not using the grace period."
      ]
    },
    {
      "cell_type": "markdown",
      "metadata": {
        "id": "AYJOi8QYYYNG",
        "colab_type": "text"
      },
      "source": [
        "<!--Write your report here in markdown or html-->\n"
      ]
    }
  ]
}